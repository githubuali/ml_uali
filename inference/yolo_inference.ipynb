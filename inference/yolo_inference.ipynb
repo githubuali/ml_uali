{
 "cells": [
  {
   "cell_type": "markdown",
   "metadata": {
    "id": "U4OyfGBxupRm"
   },
   "source": [
    "# YOLO - Inferencia\n",
    "## Detección de objetos\n",
    "\n",
    "**Autor original:** @theAIGuysCode<br>\n",
    "**Adaptado:** @maxiyommi<br>\n",
    "**Fecha:** jun 2021<br>\n",
    "**Descripción:** Notebook para inferir resultados."
   ]
  },
  {
   "cell_type": "markdown",
   "metadata": {},
   "source": [
    "## Instalación de OpenCV\n",
    "\n",
    "``` bash\n",
    "    sudo apt install python3-opencv\n",
    "    sudo apt-get install libopencv-dev\n",
    "```"
   ]
  },
  {
   "cell_type": "markdown",
   "metadata": {},
   "source": [
    "## Instalar zip\n",
    "\n",
    "``` bash\n",
    "    sudo apt install zip unzip\n",
    "``` "
   ]
  },
  {
   "cell_type": "markdown",
   "metadata": {},
   "source": [
    "## Preparación del entorno\n",
    "\n",
    "* Crear entorno virtual (solo la primera vez) dentro de la carpeta `/inference`.\n",
    "\n",
    "``` bash\n",
    "    python3 -m venv yolo_inference --system-site-packages # crea el entorno virtual \n",
    "```"
   ]
  },
  {
   "cell_type": "markdown",
   "metadata": {},
   "source": [
    "* Activar entorno virtual (siempre).\n",
    "\n",
    "``` bash\n",
    "    source yolo_inference/bin/activate # activa el entorno virtual\n",
    "    deactivate # desactiva el entorno virtual\n",
    "    rm -r env # eliminar el entorno virtual\n",
    "```"
   ]
  },
  {
   "cell_type": "markdown",
   "metadata": {},
   "source": [
    "* Instalar librerias en el entorno virtual creado (solo la primera vez, a menos que se actualice).\n",
    "\n",
    "``` bash\n",
    "    pip3 install -r requirements.txt \n",
    "```"
   ]
  },
  {
   "cell_type": "markdown",
   "metadata": {},
   "source": [
    "### Probar importar las siguientes librerias, para saber si todo el procedimiento fue correcto."
   ]
  },
  {
   "cell_type": "code",
   "execution_count": null,
   "metadata": {},
   "outputs": [],
   "source": [
    "import numpy\n",
    "import cv2"
   ]
  },
  {
   "cell_type": "markdown",
   "metadata": {
    "id": "FBlHu4zvcIBW"
   },
   "source": [
    "## Clonación y construcción de Darknet (por única vez)"
   ]
  },
  {
   "cell_type": "code",
   "execution_count": 1,
   "metadata": {
    "colab": {
     "base_uri": "https://localhost:8080/"
    },
    "executionInfo": {
     "elapsed": 19,
     "status": "ok",
     "timestamp": 1623356705280,
     "user": {
      "displayName": "Maximiliano Yommi",
      "photoUrl": "https://lh3.googleusercontent.com/a-/AOh14GjvkY2zRBy-L4HLZeU4qTeHPNSW7UYZ6CKhX_b1vvs=s64",
      "userId": "11163532765820297776"
     },
     "user_tz": 180
    },
    "id": "Pj6gCnDVcfqm",
    "outputId": "9d0452f2-d87b-40d0-9752-6c514e4d3899"
   },
   "outputs": [
    {
     "name": "stdout",
     "output_type": "stream",
     "text": [
      "Cloning into 'darknet'...\n",
      "remote: Enumerating objects: 15097, done.\u001b[K\n",
      "remote: Counting objects: 100% (25/25), done.\u001b[K\n",
      "remote: Compressing objects: 100% (22/22), done.\u001b[K\n",
      "remote: Total 15097 (delta 8), reused 9 (delta 2), pack-reused 15072\u001b[K\n",
      "Receiving objects: 100% (15097/15097), 13.48 MiB | 3.75 MiB/s, done.\n",
      "Resolving deltas: 100% (10253/10253), done.\n"
     ]
    }
   ],
   "source": [
    "# clonar repositorio darknet\n",
    "!git clone https://github.com/AlexeyAB/darknet"
   ]
  },
  {
   "cell_type": "markdown",
   "metadata": {},
   "source": [
    "### Inferencia con uso de GPU (opcional)"
   ]
  },
  {
   "cell_type": "code",
   "execution_count": 27,
   "metadata": {
    "id": "tFV73jfKckoA"
   },
   "outputs": [],
   "source": [
    "# cambie el makefile para tener GPU y OPENCV habilitados\n",
    "!sed -i 's/OPENCV=0/OPENCV=1/' Makefile\n",
    "!sed -i 's/GPU=1/GPU=0/' Makefile\n",
    "!sed -i 's/CUDNN=1/CUDNN=0/' Makefile\n",
    "!sed -i 's/CUDNN_HALF=1/CUDNN_HALF=0/' Makefile"
   ]
  },
  {
   "cell_type": "code",
   "execution_count": 1,
   "metadata": {
    "colab": {
     "base_uri": "https://localhost:8080/"
    },
    "executionInfo": {
     "elapsed": 405,
     "status": "ok",
     "timestamp": 1623356730889,
     "user": {
      "displayName": "Maximiliano Yommi",
      "photoUrl": "https://lh3.googleusercontent.com/a-/AOh14GjvkY2zRBy-L4HLZeU4qTeHPNSW7UYZ6CKhX_b1vvs=s64",
      "userId": "11163532765820297776"
     },
     "user_tz": 180
    },
    "id": "fTtLFSgedUac",
    "outputId": "1589ddfa-727f-4d1e-b514-13404f155092"
   },
   "outputs": [
    {
     "name": "stdout",
     "output_type": "stream",
     "text": [
      "/bin/bash: /usr/local/cuda/bin/nvcc: No such file or directory\n"
     ]
    }
   ],
   "source": [
    "# Verificar la existencia de CUDA\n",
    "!/usr/local/cuda/bin/nvcc --version"
   ]
  },
  {
   "cell_type": "code",
   "execution_count": 3,
   "metadata": {
    "colab": {
     "base_uri": "https://localhost:8080/"
    },
    "collapsed": true,
    "executionInfo": {
     "elapsed": 13,
     "status": "ok",
     "timestamp": 1623356906427,
     "user": {
      "displayName": "Maximiliano Yommi",
      "photoUrl": "https://lh3.googleusercontent.com/a-/AOh14GjvkY2zRBy-L4HLZeU4qTeHPNSW7UYZ6CKhX_b1vvs=s64",
      "userId": "11163532765820297776"
     },
     "user_tz": 180
    },
    "id": "imPFcr61dt4O",
    "jupyter": {
     "outputs_hidden": true
    },
    "outputId": "78e9affd-5789-400e-b46d-0b5199ea44e8",
    "tags": []
   },
   "outputs": [
    {
     "name": "stdout",
     "output_type": "stream",
     "text": [
      "/home/max/Dropbox/Git/proyectos/ml_auli/ml_uali/notebooks/darknet\n",
      "mkdir -p ./obj/\n",
      "mkdir -p backup\n",
      "chmod +x *.sh\n",
      "g++ -std=c++11 -std=c++11 -Iinclude/ -I3rdparty/stb/include -Wall -Wfatal-errors -Wno-unused-result -Wno-unknown-pragmas -fPIC -Ofast -c ./src/image_opencv.cpp -o obj/image_opencv.o\n",
      "g++ -std=c++11 -std=c++11 -Iinclude/ -I3rdparty/stb/include -Wall -Wfatal-errors -Wno-unused-result -Wno-unknown-pragmas -fPIC -Ofast -c ./src/http_stream.cpp -o obj/http_stream.o\n",
      "\u001b[01m\u001b[K./src/http_stream.cpp:\u001b[m\u001b[K In member function ‘\u001b[01m\u001b[Kbool JSON_sender::write(const char*)\u001b[m\u001b[K’:\n",
      "\u001b[01m\u001b[K./src/http_stream.cpp:253:21:\u001b[m\u001b[K \u001b[01;35m\u001b[Kwarning: \u001b[m\u001b[Kunused variable ‘\u001b[01m\u001b[Kn\u001b[m\u001b[K’ [\u001b[01;35m\u001b[K-Wunused-variable\u001b[m\u001b[K]\n",
      "  253 |                 int \u001b[01;35m\u001b[Kn\u001b[m\u001b[K = _write(client, outputbuf, outlen);\n",
      "      |                     \u001b[01;35m\u001b[K^\u001b[m\u001b[K\n",
      "\u001b[01m\u001b[K./src/http_stream.cpp:\u001b[m\u001b[K In function ‘\u001b[01m\u001b[Kvoid set_track_id(detection*, int, float, float, float, int, int, int)\u001b[m\u001b[K’:\n",
      "\u001b[01m\u001b[K./src/http_stream.cpp:867:27:\u001b[m\u001b[K \u001b[01;35m\u001b[Kwarning: \u001b[m\u001b[Kcomparison of integer expressions of different signedness: ‘\u001b[01m\u001b[Kint\u001b[m\u001b[K’ and ‘\u001b[01m\u001b[Kstd::vector<detection_t>::size_type\u001b[m\u001b[K’ {aka ‘\u001b[01m\u001b[Klong unsigned int\u001b[m\u001b[K’} [\u001b[01;35m\u001b[K-Wsign-compare\u001b[m\u001b[K]\n",
      "  867 |         for (int i = 0; \u001b[01;35m\u001b[Ki < v.size()\u001b[m\u001b[K; ++i) {\n",
      "      |                         \u001b[01;35m\u001b[K~~^~~~~~~~~~\u001b[m\u001b[K\n",
      "\u001b[01m\u001b[K./src/http_stream.cpp:875:33:\u001b[m\u001b[K \u001b[01;35m\u001b[Kwarning: \u001b[m\u001b[Kcomparison of integer expressions of different signedness: ‘\u001b[01m\u001b[Kint\u001b[m\u001b[K’ and ‘\u001b[01m\u001b[Kstd::vector<detection_t>::size_type\u001b[m\u001b[K’ {aka ‘\u001b[01m\u001b[Klong unsigned int\u001b[m\u001b[K’} [\u001b[01;35m\u001b[K-Wsign-compare\u001b[m\u001b[K]\n",
      "  875 |     for (int old_id = 0; \u001b[01;35m\u001b[Kold_id < old_dets.size()\u001b[m\u001b[K; ++old_id) {\n",
      "      |                          \u001b[01;35m\u001b[K~~~~~~~^~~~~~~~~~~~~~~~~\u001b[m\u001b[K\n",
      "\u001b[01m\u001b[K./src/http_stream.cpp:894:31:\u001b[m\u001b[K \u001b[01;35m\u001b[Kwarning: \u001b[m\u001b[Kcomparison of integer expressions of different signedness: ‘\u001b[01m\u001b[Kint\u001b[m\u001b[K’ and ‘\u001b[01m\u001b[Kstd::vector<detection_t>::size_type\u001b[m\u001b[K’ {aka ‘\u001b[01m\u001b[Klong unsigned int\u001b[m\u001b[K’} [\u001b[01;35m\u001b[K-Wsign-compare\u001b[m\u001b[K]\n",
      "  894 |     for (int index = 0; \u001b[01;35m\u001b[Kindex < new_dets_num*old_dets.size()\u001b[m\u001b[K; ++index) {\n",
      "      |                         \u001b[01;35m\u001b[K~~~~~~^~~~~~~~~~~~~~~~~~~~~~~~~~~~~~\u001b[m\u001b[K\n",
      "\u001b[01m\u001b[K./src/http_stream.cpp:930:28:\u001b[m\u001b[K \u001b[01;35m\u001b[Kwarning: \u001b[m\u001b[Kcomparison of integer expressions of different signedness: ‘\u001b[01m\u001b[Kstd::deque<std::vector<detection_t> >::size_type\u001b[m\u001b[K’ {aka ‘\u001b[01m\u001b[Klong unsigned int\u001b[m\u001b[K’} and ‘\u001b[01m\u001b[Kint\u001b[m\u001b[K’ [\u001b[01;35m\u001b[K-Wsign-compare\u001b[m\u001b[K]\n",
      "  930 |     if (\u001b[01;35m\u001b[Kold_dets_dq.size() > deque_size\u001b[m\u001b[K) old_dets_dq.pop_front();\n",
      "      |         \u001b[01;35m\u001b[K~~~~~~~~~~~~~~~~~~~^~~~~~~~~~~~\u001b[m\u001b[K\n",
      "gcc -Iinclude/ -I3rdparty/stb/include -Wall -Wfatal-errors -Wno-unused-result -Wno-unknown-pragmas -fPIC -Ofast -c ./src/gemm.c -o obj/gemm.o\n",
      "\u001b[01m\u001b[K./src/gemm.c:\u001b[m\u001b[K In function ‘\u001b[01m\u001b[Kconvolution_2d\u001b[m\u001b[K’:\n",
      "\u001b[01m\u001b[K./src/gemm.c:2044:15:\u001b[m\u001b[K \u001b[01;35m\u001b[Kwarning: \u001b[m\u001b[Kunused variable ‘\u001b[01m\u001b[Kout_w\u001b[m\u001b[K’ [\u001b[01;35m\u001b[K-Wunused-variable\u001b[m\u001b[K]\n",
      " 2044 |     const int \u001b[01;35m\u001b[Kout_w\u001b[m\u001b[K = (w + 2 * pad - ksize) / stride + 1;    // output_width=input_width for stride=1 and pad=1\n",
      "      |               \u001b[01;35m\u001b[K^~~~~\u001b[m\u001b[K\n",
      "\u001b[01m\u001b[K./src/gemm.c:2043:15:\u001b[m\u001b[K \u001b[01;35m\u001b[Kwarning: \u001b[m\u001b[Kunused variable ‘\u001b[01m\u001b[Kout_h\u001b[m\u001b[K’ [\u001b[01;35m\u001b[K-Wunused-variable\u001b[m\u001b[K]\n",
      " 2043 |     const int \u001b[01;35m\u001b[Kout_h\u001b[m\u001b[K = (h + 2 * pad - ksize) / stride + 1;    // output_height=input_height for stride=1 and pad=1\n",
      "      |               \u001b[01;35m\u001b[K^~~~~\u001b[m\u001b[K\n",
      "gcc -Iinclude/ -I3rdparty/stb/include -Wall -Wfatal-errors -Wno-unused-result -Wno-unknown-pragmas -fPIC -Ofast -c ./src/utils.c -o obj/utils.o\n",
      "\u001b[01m\u001b[K./src/utils.c:\u001b[m\u001b[K In function ‘\u001b[01m\u001b[Kcustom_hash\u001b[m\u001b[K’:\n",
      "\u001b[01m\u001b[K./src/utils.c:1045:12:\u001b[m\u001b[K \u001b[01;35m\u001b[Kwarning: \u001b[m\u001b[Ksuggest parentheses around assignment used as truth value [\u001b[01;35m\u001b[K-Wparentheses\u001b[m\u001b[K]\n",
      " 1045 |     while (\u001b[01;35m\u001b[Kc\u001b[m\u001b[K = *str++)\n",
      "      |            \u001b[01;35m\u001b[K^\u001b[m\u001b[K\n",
      "In file included from \u001b[01m\u001b[K/usr/include/string.h:495\u001b[m\u001b[K,\n",
      "                 from \u001b[01m\u001b[Kinclude/darknet.h:14\u001b[m\u001b[K,\n",
      "                 from \u001b[01m\u001b[K./src/utils.h:3\u001b[m\u001b[K,\n",
      "                 from \u001b[01m\u001b[K./src/utils.c:4\u001b[m\u001b[K:\n",
      "In function ‘\u001b[01m\u001b[Kstrncpy\u001b[m\u001b[K’,\n",
      "    inlined from ‘\u001b[01m\u001b[Kcopy_string\u001b[m\u001b[K’ at \u001b[01m\u001b[K./src/utils.c:515:5\u001b[m\u001b[K:\n",
      "\u001b[01m\u001b[K/usr/include/x86_64-linux-gnu/bits/string_fortified.h:106:10:\u001b[m\u001b[K \u001b[01;35m\u001b[Kwarning: \u001b[m\u001b[K‘\u001b[01m\u001b[K__builtin_strncpy\u001b[m\u001b[K’ specified bound depends on the length of the source argument [\u001b[01;35m\u001b[K-Wstringop-overflow=\u001b[m\u001b[K]\n",
      "  106 |   return \u001b[01;35m\u001b[K__builtin___strncpy_chk (__dest, __src, __len, __bos (__dest))\u001b[m\u001b[K;\n",
      "      |          \u001b[01;35m\u001b[K^~~~~~~~~~~~~~~~~~~~~~~~~~~~~~~~~~~~~~~~~~~~~~~~~~~~~~~~~~~~~~\u001b[m\u001b[K\n",
      "\u001b[01m\u001b[K./src/utils.c:\u001b[m\u001b[K In function ‘\u001b[01m\u001b[Kcopy_string\u001b[m\u001b[K’:\n",
      "\u001b[01m\u001b[K./src/utils.c:515:22:\u001b[m\u001b[K \u001b[01;36m\u001b[Knote: \u001b[m\u001b[Klength computed here\n",
      "  515 |     strncpy(copy, s, \u001b[01;36m\u001b[Kstrlen(s)\u001b[m\u001b[K+1);\n",
      "      |                      \u001b[01;36m\u001b[K^~~~~~~~~\u001b[m\u001b[K\n",
      "gcc -Iinclude/ -I3rdparty/stb/include -Wall -Wfatal-errors -Wno-unused-result -Wno-unknown-pragmas -fPIC -Ofast -c ./src/dark_cuda.c -o obj/dark_cuda.o\n",
      "gcc -Iinclude/ -I3rdparty/stb/include -Wall -Wfatal-errors -Wno-unused-result -Wno-unknown-pragmas -fPIC -Ofast -c ./src/convolutional_layer.c -o obj/convolutional_layer.o\n",
      "\u001b[01m\u001b[K./src/convolutional_layer.c:\u001b[m\u001b[K In function ‘\u001b[01m\u001b[Kresize_convolutional_layer\u001b[m\u001b[K’:\n",
      "\u001b[01m\u001b[K./src/convolutional_layer.c:897:9:\u001b[m\u001b[K \u001b[01;35m\u001b[Kwarning: \u001b[m\u001b[Kunused variable ‘\u001b[01m\u001b[Kold_h\u001b[m\u001b[K’ [\u001b[01;35m\u001b[K-Wunused-variable\u001b[m\u001b[K]\n",
      "  897 |     int \u001b[01;35m\u001b[Kold_h\u001b[m\u001b[K = l->h;\n",
      "      |         \u001b[01;35m\u001b[K^~~~~\u001b[m\u001b[K\n",
      "\u001b[01m\u001b[K./src/convolutional_layer.c:896:9:\u001b[m\u001b[K \u001b[01;35m\u001b[Kwarning: \u001b[m\u001b[Kunused variable ‘\u001b[01m\u001b[Kold_w\u001b[m\u001b[K’ [\u001b[01;35m\u001b[K-Wunused-variable\u001b[m\u001b[K]\n",
      "  896 |     int \u001b[01;35m\u001b[Kold_w\u001b[m\u001b[K = l->w;\n",
      "      |         \u001b[01;35m\u001b[K^~~~~\u001b[m\u001b[K\n",
      "\u001b[01m\u001b[K./src/convolutional_layer.c:\u001b[m\u001b[K In function ‘\u001b[01m\u001b[Kforward_convolutional_layer\u001b[m\u001b[K’:\n",
      "\u001b[01m\u001b[K./src/convolutional_layer.c:1341:32:\u001b[m\u001b[K \u001b[01;35m\u001b[Kwarning: \u001b[m\u001b[Kunused variable ‘\u001b[01m\u001b[Kt_intput_size\u001b[m\u001b[K’ [\u001b[01;35m\u001b[K-Wunused-variable\u001b[m\u001b[K]\n",
      " 1341 |                         size_t \u001b[01;35m\u001b[Kt_intput_size\u001b[m\u001b[K = binary_transpose_align_input(k, n, state.workspace, &l.t_bit_input, ldb_align, l.bit_align);\n",
      "      |                                \u001b[01;35m\u001b[K^~~~~~~~~~~~~\u001b[m\u001b[K\n",
      "gcc -Iinclude/ -I3rdparty/stb/include -Wall -Wfatal-errors -Wno-unused-result -Wno-unknown-pragmas -fPIC -Ofast -c ./src/list.c -o obj/list.o\n",
      "gcc -Iinclude/ -I3rdparty/stb/include -Wall -Wfatal-errors -Wno-unused-result -Wno-unknown-pragmas -fPIC -Ofast -c ./src/image.c -o obj/image.o\n",
      "gcc -Iinclude/ -I3rdparty/stb/include -Wall -Wfatal-errors -Wno-unused-result -Wno-unknown-pragmas -fPIC -Ofast -c ./src/activations.c -o obj/activations.o\n",
      "\u001b[01m\u001b[K./src/activations.c:\u001b[m\u001b[K In function ‘\u001b[01m\u001b[Kactivate\u001b[m\u001b[K’:\n",
      "\u001b[01m\u001b[K./src/activations.c:79:5:\u001b[m\u001b[K \u001b[01;35m\u001b[Kwarning: \u001b[m\u001b[Kenumeration value ‘\u001b[01m\u001b[KRELU6\u001b[m\u001b[K’ not handled in switch [\u001b[01;35m\u001b[K-Wswitch\u001b[m\u001b[K]\n",
      "   79 |     \u001b[01;35m\u001b[Kswitch\u001b[m\u001b[K(a){\n",
      "      |     \u001b[01;35m\u001b[K^~~~~~\u001b[m\u001b[K\n",
      "\u001b[01m\u001b[K./src/activations.c:79:5:\u001b[m\u001b[K \u001b[01;35m\u001b[Kwarning: \u001b[m\u001b[Kenumeration value ‘\u001b[01m\u001b[KSWISH\u001b[m\u001b[K’ not handled in switch [\u001b[01;35m\u001b[K-Wswitch\u001b[m\u001b[K]\n",
      "\u001b[01m\u001b[K./src/activations.c:79:5:\u001b[m\u001b[K \u001b[01;35m\u001b[Kwarning: \u001b[m\u001b[Kenumeration value ‘\u001b[01m\u001b[KMISH\u001b[m\u001b[K’ not handled in switch [\u001b[01;35m\u001b[K-Wswitch\u001b[m\u001b[K]\n",
      "\u001b[01m\u001b[K./src/activations.c:79:5:\u001b[m\u001b[K \u001b[01;35m\u001b[Kwarning: \u001b[m\u001b[Kenumeration value ‘\u001b[01m\u001b[KHARD_MISH\u001b[m\u001b[K’ not handled in switch [\u001b[01;35m\u001b[K-Wswitch\u001b[m\u001b[K]\n",
      "\u001b[01m\u001b[K./src/activations.c:79:5:\u001b[m\u001b[K \u001b[01;35m\u001b[Kwarning: \u001b[m\u001b[Kenumeration value ‘\u001b[01m\u001b[KNORM_CHAN\u001b[m\u001b[K’ not handled in switch [\u001b[01;35m\u001b[K-Wswitch\u001b[m\u001b[K]\n",
      "\u001b[01m\u001b[K./src/activations.c:79:5:\u001b[m\u001b[K \u001b[01;35m\u001b[Kwarning: \u001b[m\u001b[Kenumeration value ‘\u001b[01m\u001b[KNORM_CHAN_SOFTMAX\u001b[m\u001b[K’ not handled in switch [\u001b[01;35m\u001b[K-Wswitch\u001b[m\u001b[K]\n",
      "\u001b[01m\u001b[K./src/activations.c:79:5:\u001b[m\u001b[K \u001b[01;35m\u001b[Kwarning: \u001b[m\u001b[Kenumeration value ‘\u001b[01m\u001b[KNORM_CHAN_SOFTMAX_MAXVAL\u001b[m\u001b[K’ not handled in switch [\u001b[01;35m\u001b[K-Wswitch\u001b[m\u001b[K]\n",
      "\u001b[01m\u001b[K./src/activations.c:\u001b[m\u001b[K In function ‘\u001b[01m\u001b[Kgradient\u001b[m\u001b[K’:\n",
      "\u001b[01m\u001b[K./src/activations.c:310:5:\u001b[m\u001b[K \u001b[01;35m\u001b[Kwarning: \u001b[m\u001b[Kenumeration value ‘\u001b[01m\u001b[KSWISH\u001b[m\u001b[K’ not handled in switch [\u001b[01;35m\u001b[K-Wswitch\u001b[m\u001b[K]\n",
      "  310 |     \u001b[01;35m\u001b[Kswitch\u001b[m\u001b[K(a){\n",
      "      |     \u001b[01;35m\u001b[K^~~~~~\u001b[m\u001b[K\n",
      "\u001b[01m\u001b[K./src/activations.c:310:5:\u001b[m\u001b[K \u001b[01;35m\u001b[Kwarning: \u001b[m\u001b[Kenumeration value ‘\u001b[01m\u001b[KMISH\u001b[m\u001b[K’ not handled in switch [\u001b[01;35m\u001b[K-Wswitch\u001b[m\u001b[K]\n",
      "\u001b[01m\u001b[K./src/activations.c:310:5:\u001b[m\u001b[K \u001b[01;35m\u001b[Kwarning: \u001b[m\u001b[Kenumeration value ‘\u001b[01m\u001b[KHARD_MISH\u001b[m\u001b[K’ not handled in switch [\u001b[01;35m\u001b[K-Wswitch\u001b[m\u001b[K]\n",
      "gcc -Iinclude/ -I3rdparty/stb/include -Wall -Wfatal-errors -Wno-unused-result -Wno-unknown-pragmas -fPIC -Ofast -c ./src/im2col.c -o obj/im2col.o\n",
      "gcc -Iinclude/ -I3rdparty/stb/include -Wall -Wfatal-errors -Wno-unused-result -Wno-unknown-pragmas -fPIC -Ofast -c ./src/col2im.c -o obj/col2im.o\n",
      "gcc -Iinclude/ -I3rdparty/stb/include -Wall -Wfatal-errors -Wno-unused-result -Wno-unknown-pragmas -fPIC -Ofast -c ./src/blas.c -o obj/blas.o\n",
      "\u001b[01m\u001b[K./src/blas.c:\u001b[m\u001b[K In function ‘\u001b[01m\u001b[Kbackward_shortcut_multilayer_cpu\u001b[m\u001b[K’:\n",
      "\u001b[01m\u001b[K./src/blas.c:207:21:\u001b[m\u001b[K \u001b[01;35m\u001b[Kwarning: \u001b[m\u001b[Kunused variable ‘\u001b[01m\u001b[Kout_index\u001b[m\u001b[K’ [\u001b[01;35m\u001b[K-Wunused-variable\u001b[m\u001b[K]\n",
      "  207 |                 int \u001b[01;35m\u001b[Kout_index\u001b[m\u001b[K = id;\n",
      "      |                     \u001b[01;35m\u001b[K^~~~~~~~~\u001b[m\u001b[K\n",
      "\u001b[01m\u001b[K./src/blas.c:\u001b[m\u001b[K In function ‘\u001b[01m\u001b[Kfind_sim\u001b[m\u001b[K’:\n",
      "\u001b[01m\u001b[K./src/blas.c:597:59:\u001b[m\u001b[K \u001b[01;35m\u001b[Kwarning: \u001b[m\u001b[Kformat ‘\u001b[01m\u001b[K%d\u001b[m\u001b[K’ expects argument of type ‘\u001b[01m\u001b[Kint\u001b[m\u001b[K’, but argument 2 has type ‘\u001b[01m\u001b[Ksize_t\u001b[m\u001b[K’ {aka ‘\u001b[01m\u001b[Klong unsigned int\u001b[m\u001b[K’} [\u001b[01;35m\u001b[K-Wformat=\u001b[m\u001b[K]\n",
      "  597 |         printf(\" Error: find_sim(): sim isn't found: i = \u001b[01;35m\u001b[K%d\u001b[m\u001b[K, j = %d, z = %d \\n\", \u001b[32m\u001b[Ki\u001b[m\u001b[K, j, z);\n",
      "      |                                                          \u001b[01;35m\u001b[K~^\u001b[m\u001b[K                      \u001b[32m\u001b[K~\u001b[m\u001b[K\n",
      "      |                                                           \u001b[01;35m\u001b[K|\u001b[m\u001b[K                      \u001b[32m\u001b[K|\u001b[m\u001b[K\n",
      "      |                                                           \u001b[01;35m\u001b[Kint\u001b[m\u001b[K                    \u001b[32m\u001b[Ksize_t {aka long unsigned int}\u001b[m\u001b[K\n",
      "      |                                                          \u001b[32m\u001b[K%ld\u001b[m\u001b[K\n",
      "\u001b[01m\u001b[K./src/blas.c:597:67:\u001b[m\u001b[K \u001b[01;35m\u001b[Kwarning: \u001b[m\u001b[Kformat ‘\u001b[01m\u001b[K%d\u001b[m\u001b[K’ expects argument of type ‘\u001b[01m\u001b[Kint\u001b[m\u001b[K’, but argument 3 has type ‘\u001b[01m\u001b[Ksize_t\u001b[m\u001b[K’ {aka ‘\u001b[01m\u001b[Klong unsigned int\u001b[m\u001b[K’} [\u001b[01;35m\u001b[K-Wformat=\u001b[m\u001b[K]\n",
      "  597 |    printf(\" Error: find_sim(): sim isn't found: i = %d, j = \u001b[01;35m\u001b[K%d\u001b[m\u001b[K, z = %d \\n\", i, \u001b[32m\u001b[Kj\u001b[m\u001b[K, z);\n",
      "      |                                                             \u001b[01;35m\u001b[K~^\u001b[m\u001b[K                 \u001b[32m\u001b[K~\u001b[m\u001b[K\n",
      "      |                                                              \u001b[01;35m\u001b[K|\u001b[m\u001b[K                 \u001b[32m\u001b[K|\u001b[m\u001b[K\n",
      "      |                                                              \u001b[01;35m\u001b[Kint\u001b[m\u001b[K               \u001b[32m\u001b[Ksize_t {aka long unsigned int}\u001b[m\u001b[K\n",
      "      |                                                             \u001b[32m\u001b[K%ld\u001b[m\u001b[K\n",
      "\u001b[01m\u001b[K./src/blas.c:597:75:\u001b[m\u001b[K \u001b[01;35m\u001b[Kwarning: \u001b[m\u001b[Kformat ‘\u001b[01m\u001b[K%d\u001b[m\u001b[K’ expects argument of type ‘\u001b[01m\u001b[Kint\u001b[m\u001b[K’, but argument 4 has type ‘\u001b[01m\u001b[Ksize_t\u001b[m\u001b[K’ {aka ‘\u001b[01m\u001b[Klong unsigned int\u001b[m\u001b[K’} [\u001b[01;35m\u001b[K-Wformat=\u001b[m\u001b[K]\n",
      "  597 | ntf(\" Error: find_sim(): sim isn't found: i = %d, j = %d, z = \u001b[01;35m\u001b[K%d\u001b[m\u001b[K \\n\", i, j, \u001b[32m\u001b[Kz\u001b[m\u001b[K);\n",
      "      |                                                               \u001b[01;35m\u001b[K~^\u001b[m\u001b[K            \u001b[32m\u001b[K~\u001b[m\u001b[K\n",
      "      |                                                                \u001b[01;35m\u001b[K|\u001b[m\u001b[K            \u001b[32m\u001b[K|\u001b[m\u001b[K\n",
      "      |                                                                \u001b[01;35m\u001b[Kint\u001b[m\u001b[K          \u001b[32m\u001b[Ksize_t {aka long unsigned int}\u001b[m\u001b[K\n",
      "      |                                                               \u001b[32m\u001b[K%ld\u001b[m\u001b[K\n",
      "\u001b[01m\u001b[K./src/blas.c:\u001b[m\u001b[K In function ‘\u001b[01m\u001b[Kfind_P_constrastive\u001b[m\u001b[K’:\n",
      "\u001b[01m\u001b[K./src/blas.c:611:68:\u001b[m\u001b[K \u001b[01;35m\u001b[Kwarning: \u001b[m\u001b[Kformat ‘\u001b[01m\u001b[K%d\u001b[m\u001b[K’ expects argument of type ‘\u001b[01m\u001b[Kint\u001b[m\u001b[K’, but argument 2 has type ‘\u001b[01m\u001b[Ksize_t\u001b[m\u001b[K’ {aka ‘\u001b[01m\u001b[Klong unsigned int\u001b[m\u001b[K’} [\u001b[01;35m\u001b[K-Wformat=\u001b[m\u001b[K]\n",
      "  611 |   printf(\" Error: find_P_constrastive(): P isn't found: i = \u001b[01;35m\u001b[K%d\u001b[m\u001b[K, j = %d, z = %d \\n\", \u001b[32m\u001b[Ki\u001b[m\u001b[K, j, z);\n",
      "      |                                                             \u001b[01;35m\u001b[K~^\u001b[m\u001b[K                      \u001b[32m\u001b[K~\u001b[m\u001b[K\n",
      "      |                                                              \u001b[01;35m\u001b[K|\u001b[m\u001b[K                      \u001b[32m\u001b[K|\u001b[m\u001b[K\n",
      "      |                                                              \u001b[01;35m\u001b[Kint\u001b[m\u001b[K                    \u001b[32m\u001b[Ksize_t {aka long unsigned int}\u001b[m\u001b[K\n",
      "      |                                                             \u001b[32m\u001b[K%ld\u001b[m\u001b[K\n",
      "\u001b[01m\u001b[K./src/blas.c:611:76:\u001b[m\u001b[K \u001b[01;35m\u001b[Kwarning: \u001b[m\u001b[Kformat ‘\u001b[01m\u001b[K%d\u001b[m\u001b[K’ expects argument of type ‘\u001b[01m\u001b[Kint\u001b[m\u001b[K’, but argument 3 has type ‘\u001b[01m\u001b[Ksize_t\u001b[m\u001b[K’ {aka ‘\u001b[01m\u001b[Klong unsigned int\u001b[m\u001b[K’} [\u001b[01;35m\u001b[K-Wformat=\u001b[m\u001b[K]\n",
      "  611 | (\" Error: find_P_constrastive(): P isn't found: i = %d, j = \u001b[01;35m\u001b[K%d\u001b[m\u001b[K, z = %d \\n\", i, \u001b[32m\u001b[Kj\u001b[m\u001b[K, z);\n",
      "      |                                                             \u001b[01;35m\u001b[K~^\u001b[m\u001b[K                 \u001b[32m\u001b[K~\u001b[m\u001b[K\n",
      "      |                                                              \u001b[01;35m\u001b[K|\u001b[m\u001b[K                 \u001b[32m\u001b[K|\u001b[m\u001b[K\n",
      "      |                                                              \u001b[01;35m\u001b[Kint\u001b[m\u001b[K               \u001b[32m\u001b[Ksize_t {aka long unsigned int}\u001b[m\u001b[K\n",
      "      |                                                             \u001b[32m\u001b[K%ld\u001b[m\u001b[K\n",
      "\u001b[01m\u001b[K./src/blas.c:611:84:\u001b[m\u001b[K \u001b[01;35m\u001b[Kwarning: \u001b[m\u001b[Kformat ‘\u001b[01m\u001b[K%d\u001b[m\u001b[K’ expects argument of type ‘\u001b[01m\u001b[Kint\u001b[m\u001b[K’, but argument 4 has type ‘\u001b[01m\u001b[Ksize_t\u001b[m\u001b[K’ {aka ‘\u001b[01m\u001b[Klong unsigned int\u001b[m\u001b[K’} [\u001b[01;35m\u001b[K-Wformat=\u001b[m\u001b[K]\n",
      "  611 | or: find_P_constrastive(): P isn't found: i = %d, j = %d, z = \u001b[01;35m\u001b[K%d\u001b[m\u001b[K \\n\", i, j, \u001b[32m\u001b[Kz\u001b[m\u001b[K);\n",
      "      |                                                               \u001b[01;35m\u001b[K~^\u001b[m\u001b[K            \u001b[32m\u001b[K~\u001b[m\u001b[K\n",
      "      |                                                                \u001b[01;35m\u001b[K|\u001b[m\u001b[K            \u001b[32m\u001b[K|\u001b[m\u001b[K\n",
      "      |                                                                \u001b[01;35m\u001b[Kint\u001b[m\u001b[K          \u001b[32m\u001b[Ksize_t {aka long unsigned int}\u001b[m\u001b[K\n",
      "      |                                                               \u001b[32m\u001b[K%ld\u001b[m\u001b[K\n",
      "\u001b[01m\u001b[K./src/blas.c:\u001b[m\u001b[K In function ‘\u001b[01m\u001b[KP_constrastive_f\u001b[m\u001b[K’:\n",
      "\u001b[01m\u001b[K./src/blas.c:651:79:\u001b[m\u001b[K \u001b[01;35m\u001b[Kwarning: \u001b[m\u001b[Kformat ‘\u001b[01m\u001b[K%d\u001b[m\u001b[K’ expects argument of type ‘\u001b[01m\u001b[Kint\u001b[m\u001b[K’, but argument 3 has type ‘\u001b[01m\u001b[Ksize_t\u001b[m\u001b[K’ {aka ‘\u001b[01m\u001b[Klong unsigned int\u001b[m\u001b[K’} [\u001b[01;35m\u001b[K-Wformat=\u001b[m\u001b[K]\n",
      "  651 | tderr, \" Error: in P_constrastive must be i != l, while i = \u001b[01;35m\u001b[K%d\u001b[m\u001b[K, l = %d \\n\", \u001b[32m\u001b[Ki\u001b[m\u001b[K, l);\n",
      "      |                                                             \u001b[01;35m\u001b[K~^\u001b[m\u001b[K              \u001b[32m\u001b[K~\u001b[m\u001b[K\n",
      "      |                                                              \u001b[01;35m\u001b[K|\u001b[m\u001b[K              \u001b[32m\u001b[K|\u001b[m\u001b[K\n",
      "      |                                                              \u001b[01;35m\u001b[Kint\u001b[m\u001b[K            \u001b[32m\u001b[Ksize_t {aka long unsigned int}\u001b[m\u001b[K\n",
      "      |                                                             \u001b[32m\u001b[K%ld\u001b[m\u001b[K\n",
      "\u001b[01m\u001b[K./src/blas.c:651:87:\u001b[m\u001b[K \u001b[01;35m\u001b[Kwarning: \u001b[m\u001b[Kformat ‘\u001b[01m\u001b[K%d\u001b[m\u001b[K’ expects argument of type ‘\u001b[01m\u001b[Kint\u001b[m\u001b[K’, but argument 4 has type ‘\u001b[01m\u001b[Ksize_t\u001b[m\u001b[K’ {aka ‘\u001b[01m\u001b[Klong unsigned int\u001b[m\u001b[K’} [\u001b[01;35m\u001b[K-Wformat=\u001b[m\u001b[K]\n",
      "  651 | rr, \" Error: in P_constrastive must be i != l, while i = %d, l = \u001b[01;35m\u001b[K%d\u001b[m\u001b[K \\n\", i, \u001b[32m\u001b[Kl\u001b[m\u001b[K);\n",
      "      |                                                                  \u001b[01;35m\u001b[K~^\u001b[m\u001b[K         \u001b[32m\u001b[K~\u001b[m\u001b[K\n",
      "      |                                                                   \u001b[01;35m\u001b[K|\u001b[m\u001b[K         \u001b[32m\u001b[K|\u001b[m\u001b[K\n",
      "      |                                                                   \u001b[01;35m\u001b[Kint\u001b[m\u001b[K       \u001b[32m\u001b[Ksize_t {aka long unsigned int}\u001b[m\u001b[K\n",
      "      |                                                                  \u001b[32m\u001b[K%ld\u001b[m\u001b[K\n",
      "\u001b[01m\u001b[K./src/blas.c:\u001b[m\u001b[K In function ‘\u001b[01m\u001b[KP_constrastive\u001b[m\u001b[K’:\n",
      "\u001b[01m\u001b[K./src/blas.c:785:79:\u001b[m\u001b[K \u001b[01;35m\u001b[Kwarning: \u001b[m\u001b[Kformat ‘\u001b[01m\u001b[K%d\u001b[m\u001b[K’ expects argument of type ‘\u001b[01m\u001b[Kint\u001b[m\u001b[K’, but argument 3 has type ‘\u001b[01m\u001b[Ksize_t\u001b[m\u001b[K’ {aka ‘\u001b[01m\u001b[Klong unsigned int\u001b[m\u001b[K’} [\u001b[01;35m\u001b[K-Wformat=\u001b[m\u001b[K]\n",
      "  785 | tderr, \" Error: in P_constrastive must be i != l, while i = \u001b[01;35m\u001b[K%d\u001b[m\u001b[K, l = %d \\n\", \u001b[32m\u001b[Ki\u001b[m\u001b[K, l);\n",
      "      |                                                             \u001b[01;35m\u001b[K~^\u001b[m\u001b[K              \u001b[32m\u001b[K~\u001b[m\u001b[K\n",
      "      |                                                              \u001b[01;35m\u001b[K|\u001b[m\u001b[K              \u001b[32m\u001b[K|\u001b[m\u001b[K\n",
      "      |                                                              \u001b[01;35m\u001b[Kint\u001b[m\u001b[K            \u001b[32m\u001b[Ksize_t {aka long unsigned int}\u001b[m\u001b[K\n",
      "      |                                                             \u001b[32m\u001b[K%ld\u001b[m\u001b[K\n",
      "\u001b[01m\u001b[K./src/blas.c:785:87:\u001b[m\u001b[K \u001b[01;35m\u001b[Kwarning: \u001b[m\u001b[Kformat ‘\u001b[01m\u001b[K%d\u001b[m\u001b[K’ expects argument of type ‘\u001b[01m\u001b[Kint\u001b[m\u001b[K’, but argument 4 has type ‘\u001b[01m\u001b[Ksize_t\u001b[m\u001b[K’ {aka ‘\u001b[01m\u001b[Klong unsigned int\u001b[m\u001b[K’} [\u001b[01;35m\u001b[K-Wformat=\u001b[m\u001b[K]\n",
      "  785 | rr, \" Error: in P_constrastive must be i != l, while i = %d, l = \u001b[01;35m\u001b[K%d\u001b[m\u001b[K \\n\", i, \u001b[32m\u001b[Kl\u001b[m\u001b[K);\n",
      "      |                                                                  \u001b[01;35m\u001b[K~^\u001b[m\u001b[K         \u001b[32m\u001b[K~\u001b[m\u001b[K\n",
      "      |                                                                   \u001b[01;35m\u001b[K|\u001b[m\u001b[K         \u001b[32m\u001b[K|\u001b[m\u001b[K\n",
      "      |                                                                   \u001b[01;35m\u001b[Kint\u001b[m\u001b[K       \u001b[32m\u001b[Ksize_t {aka long unsigned int}\u001b[m\u001b[K\n",
      "      |                                                                  \u001b[32m\u001b[K%ld\u001b[m\u001b[K\n",
      "gcc -Iinclude/ -I3rdparty/stb/include -Wall -Wfatal-errors -Wno-unused-result -Wno-unknown-pragmas -fPIC -Ofast -c ./src/crop_layer.c -o obj/crop_layer.o\n",
      "gcc -Iinclude/ -I3rdparty/stb/include -Wall -Wfatal-errors -Wno-unused-result -Wno-unknown-pragmas -fPIC -Ofast -c ./src/dropout_layer.c -o obj/dropout_layer.o\n",
      "gcc -Iinclude/ -I3rdparty/stb/include -Wall -Wfatal-errors -Wno-unused-result -Wno-unknown-pragmas -fPIC -Ofast -c ./src/maxpool_layer.c -o obj/maxpool_layer.o\n",
      "gcc -Iinclude/ -I3rdparty/stb/include -Wall -Wfatal-errors -Wno-unused-result -Wno-unknown-pragmas -fPIC -Ofast -c ./src/softmax_layer.c -o obj/softmax_layer.o\n",
      "\u001b[01m\u001b[K./src/softmax_layer.c:\u001b[m\u001b[K In function ‘\u001b[01m\u001b[Kmake_contrastive_layer\u001b[m\u001b[K’:\n",
      "\u001b[01m\u001b[K./src/softmax_layer.c:203:101:\u001b[m\u001b[K \u001b[01;35m\u001b[Kwarning: \u001b[m\u001b[Kformat ‘\u001b[01m\u001b[K%d\u001b[m\u001b[K’ expects argument of type ‘\u001b[01m\u001b[Kint\u001b[m\u001b[K’, but argument 9 has type ‘\u001b[01m\u001b[Ksize_t\u001b[m\u001b[K’ {aka ‘\u001b[01m\u001b[Kconst long unsigned int\u001b[m\u001b[K’} [\u001b[01;35m\u001b[K-Wformat=\u001b[m\u001b[K]\n",
      "  203 | 4d x%4d x emb_size %4d x batch: %4d  classes = %4d, step = \u001b[01;35m\u001b[K%4d\u001b[m\u001b[K \\n\", w, h, l.n, l.embedding_size, batch, l.classes, \u001b[32m\u001b[Kstep\u001b[m\u001b[K);\n",
      "      |                                                            \u001b[01;35m\u001b[K~~^\u001b[m\u001b[K                                                     \u001b[32m\u001b[K~~~~\u001b[m\u001b[K\n",
      "      |                                                              \u001b[01;35m\u001b[K|\u001b[m\u001b[K                                                     \u001b[32m\u001b[K|\u001b[m\u001b[K\n",
      "      |                                                              \u001b[01;35m\u001b[Kint\u001b[m\u001b[K                                                   \u001b[32m\u001b[Ksize_t {aka const long unsigned int}\u001b[m\u001b[K\n",
      "      |                                                            \u001b[32m\u001b[K%4ld\u001b[m\u001b[K\n",
      "\u001b[01m\u001b[K./src/softmax_layer.c:\u001b[m\u001b[K In function ‘\u001b[01m\u001b[Kforward_contrastive_layer\u001b[m\u001b[K’:\n",
      "\u001b[01m\u001b[K./src/softmax_layer.c:244:27:\u001b[m\u001b[K \u001b[01;35m\u001b[Kwarning: \u001b[m\u001b[Kvariable ‘\u001b[01m\u001b[Kmax_truth\u001b[m\u001b[K’ set but not used [\u001b[01;35m\u001b[K-Wunused-but-set-variable\u001b[m\u001b[K]\n",
      "  244 |                     float \u001b[01;35m\u001b[Kmax_truth\u001b[m\u001b[K = 0;\n",
      "      |                           \u001b[01;35m\u001b[K^~~~~~~~~\u001b[m\u001b[K\n",
      "gcc -Iinclude/ -I3rdparty/stb/include -Wall -Wfatal-errors -Wno-unused-result -Wno-unknown-pragmas -fPIC -Ofast -c ./src/data.c -o obj/data.o\n",
      "\u001b[01m\u001b[K./src/data.c:\u001b[m\u001b[K In function ‘\u001b[01m\u001b[Kload_data_detection\u001b[m\u001b[K’:\n",
      "\u001b[01m\u001b[K./src/data.c:1409:43:\u001b[m\u001b[K \u001b[01;35m\u001b[Kwarning: \u001b[m\u001b[Kvariable ‘\u001b[01m\u001b[Kr_scale\u001b[m\u001b[K’ set but not used [\u001b[01;35m\u001b[K-Wunused-but-set-variable\u001b[m\u001b[K]\n",
      " 1409 |     float r1 = 0, r2 = 0, r3 = 0, r4 = 0, \u001b[01;35m\u001b[Kr_scale\u001b[m\u001b[K;\n",
      "      |                                           \u001b[01;35m\u001b[K^~~~~~~\u001b[m\u001b[K\n",
      "\u001b[01m\u001b[K./src/data.c:\u001b[m\u001b[K In function ‘\u001b[01m\u001b[Kfill_truth_detection\u001b[m\u001b[K’:\n",
      "\u001b[01m\u001b[K./src/data.c:440:33:\u001b[m\u001b[K \u001b[01;35m\u001b[Kwarning: \u001b[m\u001b[K‘\u001b[01m\u001b[K%s\u001b[m\u001b[K’ directive writing up to 4095 bytes into a region of size 251 [\u001b[01;35m\u001b[K-Wformat-overflow=\u001b[m\u001b[K]\n",
      "  440 |             sprintf(buff, \"echo \u001b[01;35m\u001b[K%s\u001b[m\u001b[K \\\"Wrong annotation: w = %f\\\" >> bad_label.list\", \u001b[32m\u001b[Klabelpath\u001b[m\u001b[K, w);\n",
      "      |                                 \u001b[01;35m\u001b[K^~\u001b[m\u001b[K                                                  \u001b[32m\u001b[K~~~~~~~~~\u001b[m\u001b[K\n",
      "\u001b[01m\u001b[K./src/data.c:440:27:\u001b[m\u001b[K \u001b[01;36m\u001b[Knote: \u001b[m\u001b[Kassuming directive output of 8 bytes\n",
      "  440 |             sprintf(buff, \u001b[01;36m\u001b[K\"echo %s \\\"Wrong annotation: w = %f\\\" >> bad_label.list\"\u001b[m\u001b[K, labelpath, w);\n",
      "      |                           \u001b[01;36m\u001b[K^~~~~~~~~~~~~~~~~~~~~~~~~~~~~~~~~~~~~~~~~~~~~~~~~~~~~~~~\u001b[m\u001b[K\n",
      "In file included from \u001b[01m\u001b[K/usr/include/stdio.h:867\u001b[m\u001b[K,\n",
      "                 from \u001b[01m\u001b[Kinclude/darknet.h:13\u001b[m\u001b[K,\n",
      "                 from \u001b[01m\u001b[K./src/data.h:5\u001b[m\u001b[K,\n",
      "                 from \u001b[01m\u001b[K./src/data.c:1\u001b[m\u001b[K:\n",
      "\u001b[01m\u001b[K/usr/include/x86_64-linux-gnu/bits/stdio2.h:36:10:\u001b[m\u001b[K \u001b[01;36m\u001b[Knote: \u001b[m\u001b[K‘\u001b[01m\u001b[K__builtin___sprintf_chk\u001b[m\u001b[K’ output between 52 and 4461 bytes into a destination of size 256\n",
      "   36 |   return \u001b[01;36m\u001b[K__builtin___sprintf_chk (__s, __USE_FORTIFY_LEVEL - 1,\u001b[m\u001b[K\n",
      "      |          \u001b[01;36m\u001b[K^~~~~~~~~~~~~~~~~~~~~~~~~~~~~~~~~~~~~~~~~~~~~~~~~~~~~~\u001b[m\u001b[K\n",
      "   37 | \u001b[01;36m\u001b[K      __bos (__s), __fmt, __va_arg_pack ())\u001b[m\u001b[K;\n",
      "      |       \u001b[01;36m\u001b[K~~~~~~~~~~~~~~~~~~~~~~~~~~~~~~~~~~~~~\u001b[m\u001b[K\n",
      "\u001b[01m\u001b[K./src/data.c:447:33:\u001b[m\u001b[K \u001b[01;35m\u001b[Kwarning: \u001b[m\u001b[K‘\u001b[01m\u001b[K%s\u001b[m\u001b[K’ directive writing up to 4095 bytes into a region of size 251 [\u001b[01;35m\u001b[K-Wformat-overflow=\u001b[m\u001b[K]\n",
      "  447 |             sprintf(buff, \"echo \u001b[01;35m\u001b[K%s\u001b[m\u001b[K \\\"Wrong annotation: h = %f\\\" >> bad_label.list\", \u001b[32m\u001b[Klabelpath\u001b[m\u001b[K, h);\n",
      "      |                                 \u001b[01;35m\u001b[K^~\u001b[m\u001b[K                                                  \u001b[32m\u001b[K~~~~~~~~~\u001b[m\u001b[K\n",
      "\u001b[01m\u001b[K./src/data.c:447:27:\u001b[m\u001b[K \u001b[01;36m\u001b[Knote: \u001b[m\u001b[Kassuming directive output of 8 bytes\n",
      "  447 |             sprintf(buff, \u001b[01;36m\u001b[K\"echo %s \\\"Wrong annotation: h = %f\\\" >> bad_label.list\"\u001b[m\u001b[K, labelpath, h);\n",
      "      |                           \u001b[01;36m\u001b[K^~~~~~~~~~~~~~~~~~~~~~~~~~~~~~~~~~~~~~~~~~~~~~~~~~~~~~~~\u001b[m\u001b[K\n",
      "In file included from \u001b[01m\u001b[K/usr/include/stdio.h:867\u001b[m\u001b[K,\n",
      "                 from \u001b[01m\u001b[Kinclude/darknet.h:13\u001b[m\u001b[K,\n",
      "                 from \u001b[01m\u001b[K./src/data.h:5\u001b[m\u001b[K,\n",
      "                 from \u001b[01m\u001b[K./src/data.c:1\u001b[m\u001b[K:\n",
      "\u001b[01m\u001b[K/usr/include/x86_64-linux-gnu/bits/stdio2.h:36:10:\u001b[m\u001b[K \u001b[01;36m\u001b[Knote: \u001b[m\u001b[K‘\u001b[01m\u001b[K__builtin___sprintf_chk\u001b[m\u001b[K’ output between 52 and 4461 bytes into a destination of size 256\n",
      "   36 |   return \u001b[01;36m\u001b[K__builtin___sprintf_chk (__s, __USE_FORTIFY_LEVEL - 1,\u001b[m\u001b[K\n",
      "      |          \u001b[01;36m\u001b[K^~~~~~~~~~~~~~~~~~~~~~~~~~~~~~~~~~~~~~~~~~~~~~~~~~~~~~\u001b[m\u001b[K\n",
      "   37 | \u001b[01;36m\u001b[K      __bos (__s), __fmt, __va_arg_pack ())\u001b[m\u001b[K;\n",
      "      |       \u001b[01;36m\u001b[K~~~~~~~~~~~~~~~~~~~~~~~~~~~~~~~~~~~~~\u001b[m\u001b[K\n",
      "\u001b[01m\u001b[K./src/data.c:432:33:\u001b[m\u001b[K \u001b[01;35m\u001b[Kwarning: \u001b[m\u001b[K‘\u001b[01m\u001b[K%s\u001b[m\u001b[K’ directive writing up to 4095 bytes into a region of size 251 [\u001b[01;35m\u001b[K-Wformat-overflow=\u001b[m\u001b[K]\n",
      "  432 |             sprintf(buff, \"echo \u001b[01;35m\u001b[K%s\u001b[m\u001b[K \\\"Wrong annotation: x = %f, y = %f\\\" >> bad_label.list\", \u001b[32m\u001b[Klabelpath\u001b[m\u001b[K, x, y);\n",
      "      |                                 \u001b[01;35m\u001b[K^~\u001b[m\u001b[K                                                          \u001b[32m\u001b[K~~~~~~~~~\u001b[m\u001b[K\n",
      "\u001b[01m\u001b[K./src/data.c:432:27:\u001b[m\u001b[K \u001b[01;36m\u001b[Knote: \u001b[m\u001b[Kassuming directive output of 8 bytes\n",
      "  432 |             sprintf(buff, \u001b[01;36m\u001b[K\"echo %s \\\"Wrong annotation: x = %f, y = %f\\\" >> bad_label.list\"\u001b[m\u001b[K, labelpath, x, y);\n",
      "      |                           \u001b[01;36m\u001b[K^~~~~~~~~~~~~~~~~~~~~~~~~~~~~~~~~~~~~~~~~~~~~~~~~~~~~~~~~~~~~~~~\u001b[m\u001b[K\n",
      "\u001b[01m\u001b[K./src/data.c:432:27:\u001b[m\u001b[K \u001b[01;36m\u001b[Knote: \u001b[m\u001b[Kassuming directive output of 8 bytes\n",
      "In file included from \u001b[01m\u001b[K/usr/include/stdio.h:867\u001b[m\u001b[K,\n",
      "                 from \u001b[01m\u001b[Kinclude/darknet.h:13\u001b[m\u001b[K,\n",
      "                 from \u001b[01m\u001b[K./src/data.h:5\u001b[m\u001b[K,\n",
      "                 from \u001b[01m\u001b[K./src/data.c:1\u001b[m\u001b[K:\n",
      "\u001b[01m\u001b[K/usr/include/x86_64-linux-gnu/bits/stdio2.h:36:10:\u001b[m\u001b[K \u001b[01;36m\u001b[Knote: \u001b[m\u001b[K‘\u001b[01m\u001b[K__builtin___sprintf_chk\u001b[m\u001b[K’ output between 61 and 4784 bytes into a destination of size 256\n",
      "   36 |   return \u001b[01;36m\u001b[K__builtin___sprintf_chk (__s, __USE_FORTIFY_LEVEL - 1,\u001b[m\u001b[K\n",
      "      |          \u001b[01;36m\u001b[K^~~~~~~~~~~~~~~~~~~~~~~~~~~~~~~~~~~~~~~~~~~~~~~~~~~~~~\u001b[m\u001b[K\n",
      "   37 | \u001b[01;36m\u001b[K      __bos (__s), __fmt, __va_arg_pack ())\u001b[m\u001b[K;\n",
      "      |       \u001b[01;36m\u001b[K~~~~~~~~~~~~~~~~~~~~~~~~~~~~~~~~~~~~~\u001b[m\u001b[K\n",
      "\u001b[01m\u001b[K./src/data.c:424:33:\u001b[m\u001b[K \u001b[01;35m\u001b[Kwarning: \u001b[m\u001b[K‘\u001b[01m\u001b[K%s\u001b[m\u001b[K’ directive writing up to 4095 bytes into a region of size 251 [\u001b[01;35m\u001b[K-Wformat-overflow=\u001b[m\u001b[K]\n",
      "  424 |             sprintf(buff, \"echo \u001b[01;35m\u001b[K%s\u001b[m\u001b[K \\\"Wrong annotation: x = 0 or y = 0\\\" >> bad_label.list\", \u001b[32m\u001b[Klabelpath\u001b[m\u001b[K);\n",
      "      |                                 \u001b[01;35m\u001b[K^~\u001b[m\u001b[K                                                          \u001b[32m\u001b[K~~~~~~~~~\u001b[m\u001b[K\n",
      "In file included from \u001b[01m\u001b[K/usr/include/stdio.h:867\u001b[m\u001b[K,\n",
      "                 from \u001b[01m\u001b[Kinclude/darknet.h:13\u001b[m\u001b[K,\n",
      "                 from \u001b[01m\u001b[K./src/data.h:5\u001b[m\u001b[K,\n",
      "                 from \u001b[01m\u001b[K./src/data.c:1\u001b[m\u001b[K:\n",
      "\u001b[01m\u001b[K/usr/include/x86_64-linux-gnu/bits/stdio2.h:36:10:\u001b[m\u001b[K \u001b[01;36m\u001b[Knote: \u001b[m\u001b[K‘\u001b[01m\u001b[K__builtin___sprintf_chk\u001b[m\u001b[K’ output between 59 and 4154 bytes into a destination of size 256\n",
      "   36 |   return \u001b[01;36m\u001b[K__builtin___sprintf_chk (__s, __USE_FORTIFY_LEVEL - 1,\u001b[m\u001b[K\n",
      "      |          \u001b[01;36m\u001b[K^~~~~~~~~~~~~~~~~~~~~~~~~~~~~~~~~~~~~~~~~~~~~~~~~~~~~~\u001b[m\u001b[K\n",
      "   37 | \u001b[01;36m\u001b[K      __bos (__s), __fmt, __va_arg_pack ())\u001b[m\u001b[K;\n",
      "      |       \u001b[01;36m\u001b[K~~~~~~~~~~~~~~~~~~~~~~~~~~~~~~~~~~~~~\u001b[m\u001b[K\n",
      "\u001b[01m\u001b[K./src/data.c:410:33:\u001b[m\u001b[K \u001b[01;35m\u001b[Kwarning: \u001b[m\u001b[K‘\u001b[01m\u001b[K%s\u001b[m\u001b[K’ directive writing up to 4095 bytes into a region of size 251 [\u001b[01;35m\u001b[K-Wformat-overflow=\u001b[m\u001b[K]\n",
      "  410 |             sprintf(buff, \"echo \u001b[01;35m\u001b[K%s\u001b[m\u001b[K \\\"Wrong annotation: class_id = %d. But class_id should be [from 0 to %d]\\\" >> bad_label.list\", \u001b[32m\u001b[Klabelpath\u001b[m\u001b[K, id, (classes-1));\n",
      "      |                                 \u001b[01;35m\u001b[K^~\u001b[m\u001b[K                                                                                                \u001b[32m\u001b[K~~~~~~~~~\u001b[m\u001b[K\n",
      "In file included from \u001b[01m\u001b[K/usr/include/stdio.h:867\u001b[m\u001b[K,\n",
      "                 from \u001b[01m\u001b[Kinclude/darknet.h:13\u001b[m\u001b[K,\n",
      "                 from \u001b[01m\u001b[K./src/data.h:5\u001b[m\u001b[K,\n",
      "                 from \u001b[01m\u001b[K./src/data.c:1\u001b[m\u001b[K:\n",
      "\u001b[01m\u001b[K/usr/include/x86_64-linux-gnu/bits/stdio2.h:36:10:\u001b[m\u001b[K \u001b[01;36m\u001b[Knote: \u001b[m\u001b[K‘\u001b[01m\u001b[K__builtin___sprintf_chk\u001b[m\u001b[K’ output between 95 and 4210 bytes into a destination of size 256\n",
      "   36 |   return \u001b[01;36m\u001b[K__builtin___sprintf_chk (__s, __USE_FORTIFY_LEVEL - 1,\u001b[m\u001b[K\n",
      "      |          \u001b[01;36m\u001b[K^~~~~~~~~~~~~~~~~~~~~~~~~~~~~~~~~~~~~~~~~~~~~~~~~~~~~~\u001b[m\u001b[K\n",
      "   37 | \u001b[01;36m\u001b[K      __bos (__s), __fmt, __va_arg_pack ())\u001b[m\u001b[K;\n",
      "      |       \u001b[01;36m\u001b[K~~~~~~~~~~~~~~~~~~~~~~~~~~~~~~~~~~~~~\u001b[m\u001b[K\n",
      "gcc -Iinclude/ -I3rdparty/stb/include -Wall -Wfatal-errors -Wno-unused-result -Wno-unknown-pragmas -fPIC -Ofast -c ./src/matrix.c -o obj/matrix.o\n",
      "gcc -Iinclude/ -I3rdparty/stb/include -Wall -Wfatal-errors -Wno-unused-result -Wno-unknown-pragmas -fPIC -Ofast -c ./src/network.c -o obj/network.o\n",
      "\u001b[01m\u001b[K./src/network.c:\u001b[m\u001b[K In function ‘\u001b[01m\u001b[Ktrain_network_waitkey\u001b[m\u001b[K’:\n",
      "\u001b[01m\u001b[K./src/network.c:434:13:\u001b[m\u001b[K \u001b[01;35m\u001b[Kwarning: \u001b[m\u001b[Kunused variable ‘\u001b[01m\u001b[Kema_period\u001b[m\u001b[K’ [\u001b[01;35m\u001b[K-Wunused-variable\u001b[m\u001b[K]\n",
      "  434 |         int \u001b[01;35m\u001b[Kema_period\u001b[m\u001b[K = (net.max_batches - ema_start_point - 1000) * (1.0 - net.ema_alpha);\n",
      "      |             \u001b[01;35m\u001b[K^~~~~~~~~~\u001b[m\u001b[K\n",
      "At top level:\n",
      "\u001b[01m\u001b[K./src/network.c:1262:14:\u001b[m\u001b[K \u001b[01;35m\u001b[Kwarning: \u001b[m\u001b[K‘\u001b[01m\u001b[Krelu\u001b[m\u001b[K’ defined but not used [\u001b[01;35m\u001b[K-Wunused-function\u001b[m\u001b[K]\n",
      " 1262 | static float \u001b[01;35m\u001b[Krelu\u001b[m\u001b[K(float src) {\n",
      "      |              \u001b[01;35m\u001b[K^~~~\u001b[m\u001b[K\n",
      "gcc -Iinclude/ -I3rdparty/stb/include -Wall -Wfatal-errors -Wno-unused-result -Wno-unknown-pragmas -fPIC -Ofast -c ./src/connected_layer.c -o obj/connected_layer.o\n",
      "gcc -Iinclude/ -I3rdparty/stb/include -Wall -Wfatal-errors -Wno-unused-result -Wno-unknown-pragmas -fPIC -Ofast -c ./src/cost_layer.c -o obj/cost_layer.o\n",
      "gcc -Iinclude/ -I3rdparty/stb/include -Wall -Wfatal-errors -Wno-unused-result -Wno-unknown-pragmas -fPIC -Ofast -c ./src/parser.c -o obj/parser.o\n",
      "\u001b[01m\u001b[K./src/parser.c:\u001b[m\u001b[K In function ‘\u001b[01m\u001b[Ksave_implicit_weights\u001b[m\u001b[K’:\n",
      "\u001b[01m\u001b[K./src/parser.c:1851:9:\u001b[m\u001b[K \u001b[01;35m\u001b[Kwarning: \u001b[m\u001b[Kunused variable ‘\u001b[01m\u001b[Ki\u001b[m\u001b[K’ [\u001b[01;35m\u001b[K-Wunused-variable\u001b[m\u001b[K]\n",
      " 1851 |     int \u001b[01;35m\u001b[Ki\u001b[m\u001b[K;\n",
      "      |         \u001b[01;35m\u001b[K^\u001b[m\u001b[K\n",
      "\u001b[01m\u001b[K./src/parser.c:\u001b[m\u001b[K In function ‘\u001b[01m\u001b[Kget_classes_multipliers\u001b[m\u001b[K’:\n",
      "\u001b[01m\u001b[K./src/parser.c:438:40:\u001b[m\u001b[K \u001b[01;35m\u001b[Kwarning: \u001b[m\u001b[Kargument 1 range [18446744071562067968, 18446744073709551615] exceeds maximum object size 9223372036854775807 [\u001b[01;35m\u001b[K-Walloc-size-larger-than=\u001b[m\u001b[K]\n",
      "  438 |         classes_multipliers = (float *)\u001b[01;35m\u001b[Kcalloc(classes_counters, sizeof(float))\u001b[m\u001b[K;\n",
      "      |                                        \u001b[01;35m\u001b[K^~~~~~~~~~~~~~~~~~~~~~~~~~~~~~~~~~~~~~~\u001b[m\u001b[K\n",
      "In file included from \u001b[01m\u001b[K./src/parser.c:3\u001b[m\u001b[K:\n",
      "\u001b[01m\u001b[K/usr/include/stdlib.h:542:14:\u001b[m\u001b[K \u001b[01;36m\u001b[Knote: \u001b[m\u001b[Kin a call to allocation function ‘\u001b[01m\u001b[Kcalloc\u001b[m\u001b[K’ declared here\n",
      "  542 | extern void *\u001b[01;36m\u001b[Kcalloc\u001b[m\u001b[K (size_t __nmemb, size_t __size)\n",
      "      |              \u001b[01;36m\u001b[K^~~~~~\u001b[m\u001b[K\n",
      "gcc -Iinclude/ -I3rdparty/stb/include -Wall -Wfatal-errors -Wno-unused-result -Wno-unknown-pragmas -fPIC -Ofast -c ./src/option_list.c -o obj/option_list.o\n",
      "gcc -Iinclude/ -I3rdparty/stb/include -Wall -Wfatal-errors -Wno-unused-result -Wno-unknown-pragmas -fPIC -Ofast -c ./src/darknet.c -o obj/darknet.o\n",
      "gcc -Iinclude/ -I3rdparty/stb/include -Wall -Wfatal-errors -Wno-unused-result -Wno-unknown-pragmas -fPIC -Ofast -c ./src/detection_layer.c -o obj/detection_layer.o\n",
      "gcc -Iinclude/ -I3rdparty/stb/include -Wall -Wfatal-errors -Wno-unused-result -Wno-unknown-pragmas -fPIC -Ofast -c ./src/captcha.c -o obj/captcha.o\n",
      "gcc -Iinclude/ -I3rdparty/stb/include -Wall -Wfatal-errors -Wno-unused-result -Wno-unknown-pragmas -fPIC -Ofast -c ./src/route_layer.c -o obj/route_layer.o\n",
      "gcc -Iinclude/ -I3rdparty/stb/include -Wall -Wfatal-errors -Wno-unused-result -Wno-unknown-pragmas -fPIC -Ofast -c ./src/writing.c -o obj/writing.o\n",
      "gcc -Iinclude/ -I3rdparty/stb/include -Wall -Wfatal-errors -Wno-unused-result -Wno-unknown-pragmas -fPIC -Ofast -c ./src/box.c -o obj/box.o\n",
      "\u001b[01m\u001b[K./src/box.c:\u001b[m\u001b[K In function ‘\u001b[01m\u001b[Kbox_iou_kind\u001b[m\u001b[K’:\n",
      "\u001b[01m\u001b[K./src/box.c:154:5:\u001b[m\u001b[K \u001b[01;35m\u001b[Kwarning: \u001b[m\u001b[Kenumeration value ‘\u001b[01m\u001b[KMSE\u001b[m\u001b[K’ not handled in switch [\u001b[01;35m\u001b[K-Wswitch\u001b[m\u001b[K]\n",
      "  154 |     \u001b[01;35m\u001b[Kswitch\u001b[m\u001b[K(iou_kind) {\n",
      "      |     \u001b[01;35m\u001b[K^~~~~~\u001b[m\u001b[K\n",
      "\u001b[01m\u001b[K./src/box.c:\u001b[m\u001b[K In function ‘\u001b[01m\u001b[Kdiounms_sort\u001b[m\u001b[K’:\n",
      "\u001b[01m\u001b[K./src/box.c:898:27:\u001b[m\u001b[K \u001b[01;35m\u001b[Kwarning: \u001b[m\u001b[Kunused variable ‘\u001b[01m\u001b[Kbeta_prob\u001b[m\u001b[K’ [\u001b[01;35m\u001b[K-Wunused-variable\u001b[m\u001b[K]\n",
      "  898 |                     float \u001b[01;35m\u001b[Kbeta_prob\u001b[m\u001b[K = pow(dets[j].prob[k], 2) / sum_prob;\n",
      "      |                           \u001b[01;35m\u001b[K^~~~~~~~~\u001b[m\u001b[K\n",
      "\u001b[01m\u001b[K./src/box.c:897:27:\u001b[m\u001b[K \u001b[01;35m\u001b[Kwarning: \u001b[m\u001b[Kunused variable ‘\u001b[01m\u001b[Kalpha_prob\u001b[m\u001b[K’ [\u001b[01;35m\u001b[K-Wunused-variable\u001b[m\u001b[K]\n",
      "  897 |                     float \u001b[01;35m\u001b[Kalpha_prob\u001b[m\u001b[K = pow(dets[i].prob[k], 2) / sum_prob;\n",
      "      |                           \u001b[01;35m\u001b[K^~~~~~~~~~\u001b[m\u001b[K\n",
      "gcc -Iinclude/ -I3rdparty/stb/include -Wall -Wfatal-errors -Wno-unused-result -Wno-unknown-pragmas -fPIC -Ofast -c ./src/nightmare.c -o obj/nightmare.o\n",
      "gcc -Iinclude/ -I3rdparty/stb/include -Wall -Wfatal-errors -Wno-unused-result -Wno-unknown-pragmas -fPIC -Ofast -c ./src/normalization_layer.c -o obj/normalization_layer.o\n",
      "gcc -Iinclude/ -I3rdparty/stb/include -Wall -Wfatal-errors -Wno-unused-result -Wno-unknown-pragmas -fPIC -Ofast -c ./src/avgpool_layer.c -o obj/avgpool_layer.o\n",
      "gcc -Iinclude/ -I3rdparty/stb/include -Wall -Wfatal-errors -Wno-unused-result -Wno-unknown-pragmas -fPIC -Ofast -c ./src/coco.c -o obj/coco.o\n",
      "\u001b[01m\u001b[K./src/coco.c:\u001b[m\u001b[K In function ‘\u001b[01m\u001b[Kvalidate_coco_recall\u001b[m\u001b[K’:\n",
      "\u001b[01m\u001b[K./src/coco.c:248:11:\u001b[m\u001b[K \u001b[01;35m\u001b[Kwarning: \u001b[m\u001b[Kunused variable ‘\u001b[01m\u001b[Kbase\u001b[m\u001b[K’ [\u001b[01;35m\u001b[K-Wunused-variable\u001b[m\u001b[K]\n",
      "  248 |     char *\u001b[01;35m\u001b[Kbase\u001b[m\u001b[K = \"results/comp4_det_test_\";\n",
      "      |           \u001b[01;35m\u001b[K^~~~\u001b[m\u001b[K\n",
      "gcc -Iinclude/ -I3rdparty/stb/include -Wall -Wfatal-errors -Wno-unused-result -Wno-unknown-pragmas -fPIC -Ofast -c ./src/dice.c -o obj/dice.o\n",
      "gcc -Iinclude/ -I3rdparty/stb/include -Wall -Wfatal-errors -Wno-unused-result -Wno-unknown-pragmas -fPIC -Ofast -c ./src/yolo.c -o obj/yolo.o\n",
      "gcc -Iinclude/ -I3rdparty/stb/include -Wall -Wfatal-errors -Wno-unused-result -Wno-unknown-pragmas -fPIC -Ofast -c ./src/detector.c -o obj/detector.o\n",
      "\u001b[01m\u001b[K./src/detector.c:\u001b[m\u001b[K In function ‘\u001b[01m\u001b[Ktrain_detector\u001b[m\u001b[K’:\n",
      "\u001b[01m\u001b[K./src/detector.c:386:72:\u001b[m\u001b[K \u001b[01;35m\u001b[Kwarning: \u001b[m\u001b[Ksuggest parentheses around ‘\u001b[01m\u001b[K&&\u001b[m\u001b[K’ within ‘\u001b[01m\u001b[K||\u001b[m\u001b[K’ [\u001b[01;35m\u001b[K-Wparentheses\u001b[m\u001b[K]\n",
      "  386 |   \u001b[01;35m\u001b[K(iteration >= (iter_save + 1000) || iteration % 1000 == 0) && net.max_batches < 10000\u001b[m\u001b[K)\n",
      "      |   \u001b[01;35m\u001b[K~~~~~~~~~~~~~~~~~~~~~~~~~~~~~~~~~~~~~~~~~~~~~~~~~~~~~~~~~~~^~~~~~~~~~~~~~~~~~~~~~~~~~\u001b[m\u001b[K\n",
      "\n",
      "\u001b[01m\u001b[K./src/detector.c:319:13:\u001b[m\u001b[K \u001b[01;35m\u001b[Kwarning: \u001b[m\u001b[Kvariable ‘\u001b[01m\u001b[Kdraw_precision\u001b[m\u001b[K’ set but not used [\u001b[01;35m\u001b[K-Wunused-but-set-variable\u001b[m\u001b[K]\n",
      "  319 |         int \u001b[01;35m\u001b[Kdraw_precision\u001b[m\u001b[K = 0;\n",
      "      |             \u001b[01;35m\u001b[K^~~~~~~~~~~~~~\u001b[m\u001b[K\n",
      "\u001b[01m\u001b[K./src/detector.c:67:11:\u001b[m\u001b[K \u001b[01;35m\u001b[Kwarning: \u001b[m\u001b[Kunused variable ‘\u001b[01m\u001b[Kavg_contrastive_acc\u001b[m\u001b[K’ [\u001b[01;35m\u001b[K-Wunused-variable\u001b[m\u001b[K]\n",
      "   67 |     float \u001b[01;35m\u001b[Kavg_contrastive_acc\u001b[m\u001b[K = 0;\n",
      "      |           \u001b[01;35m\u001b[K^~~~~~~~~~~~~~~~~~~\u001b[m\u001b[K\n",
      "\u001b[01m\u001b[K./src/detector.c:\u001b[m\u001b[K In function ‘\u001b[01m\u001b[Kprint_cocos\u001b[m\u001b[K’:\n",
      "\u001b[01m\u001b[K./src/detector.c:486:29:\u001b[m\u001b[K \u001b[01;35m\u001b[Kwarning: \u001b[m\u001b[Kformat not a string literal and no format arguments [\u001b[01;35m\u001b[K-Wformat-security\u001b[m\u001b[K]\n",
      "  486 |                 fprintf(fp, \u001b[01;35m\u001b[Kbuff\u001b[m\u001b[K);\n",
      "      |                             \u001b[01;35m\u001b[K^~~~\u001b[m\u001b[K\n",
      "\u001b[01m\u001b[K./src/detector.c:\u001b[m\u001b[K In function ‘\u001b[01m\u001b[Keliminate_bdd\u001b[m\u001b[K’:\n",
      "\u001b[01m\u001b[K./src/detector.c:579:21:\u001b[m\u001b[K \u001b[01;35m\u001b[Kwarning: \u001b[m\u001b[Kstatement with no effect [\u001b[01;35m\u001b[K-Wunused-value\u001b[m\u001b[K]\n",
      "  579 |                     \u001b[01;35m\u001b[Kfor\u001b[m\u001b[K (k; buf[k + n] != '\\0'; k++)\n",
      "      |                     \u001b[01;35m\u001b[K^~~\u001b[m\u001b[K\n",
      "\u001b[01m\u001b[K./src/detector.c:\u001b[m\u001b[K In function ‘\u001b[01m\u001b[Kvalidate_detector\u001b[m\u001b[K’:\n",
      "\u001b[01m\u001b[K./src/detector.c:700:13:\u001b[m\u001b[K \u001b[01;35m\u001b[Kwarning: \u001b[m\u001b[Kunused variable ‘\u001b[01m\u001b[Kmkd2\u001b[m\u001b[K’ [\u001b[01;35m\u001b[K-Wunused-variable\u001b[m\u001b[K]\n",
      "  700 |         int \u001b[01;35m\u001b[Kmkd2\u001b[m\u001b[K = make_directory(buff2, 0777);\n",
      "      |             \u001b[01;35m\u001b[K^~~~\u001b[m\u001b[K\n",
      "\u001b[01m\u001b[K./src/detector.c:698:13:\u001b[m\u001b[K \u001b[01;35m\u001b[Kwarning: \u001b[m\u001b[Kunused variable ‘\u001b[01m\u001b[Kmkd\u001b[m\u001b[K’ [\u001b[01;35m\u001b[K-Wunused-variable\u001b[m\u001b[K]\n",
      "  698 |         int \u001b[01;35m\u001b[Kmkd\u001b[m\u001b[K = make_directory(buff, 0777);\n",
      "      |             \u001b[01;35m\u001b[K^~~\u001b[m\u001b[K\n",
      "\u001b[01m\u001b[K./src/detector.c:\u001b[m\u001b[K In function ‘\u001b[01m\u001b[Kvalidate_detector_map\u001b[m\u001b[K’:\n",
      "\u001b[01m\u001b[K./src/detector.c:1332:15:\u001b[m\u001b[K \u001b[01;35m\u001b[Kwarning: \u001b[m\u001b[Kunused variable ‘\u001b[01m\u001b[Kclass_recall\u001b[m\u001b[K’ [\u001b[01;35m\u001b[K-Wunused-variable\u001b[m\u001b[K]\n",
      " 1332 |         float \u001b[01;35m\u001b[Kclass_recall\u001b[m\u001b[K = (float)tp_for_thresh_per_class[i] / ((float)tp_for_thresh_per_class[i] + (float)(truth_classes_count[i] - tp_for_thresh_per_class[i]));\n",
      "      |               \u001b[01;35m\u001b[K^~~~~~~~~~~~\u001b[m\u001b[K\n",
      "\u001b[01m\u001b[K./src/detector.c:1331:15:\u001b[m\u001b[K \u001b[01;35m\u001b[Kwarning: \u001b[m\u001b[Kunused variable ‘\u001b[01m\u001b[Kclass_precision\u001b[m\u001b[K’ [\u001b[01;35m\u001b[K-Wunused-variable\u001b[m\u001b[K]\n",
      " 1331 |         float \u001b[01;35m\u001b[Kclass_precision\u001b[m\u001b[K = (float)tp_for_thresh_per_class[i] / ((float)tp_for_thresh_per_class[i] + (float)fp_for_thresh_per_class[i]);\n",
      "      |               \u001b[01;35m\u001b[K^~~~~~~~~~~~~~~\u001b[m\u001b[K\n",
      "At top level:\n",
      "\u001b[01m\u001b[K./src/detector.c:452:12:\u001b[m\u001b[K \u001b[01;35m\u001b[Kwarning: \u001b[m\u001b[K‘\u001b[01m\u001b[Kget_coco_image_id\u001b[m\u001b[K’ defined but not used [\u001b[01;35m\u001b[K-Wunused-function\u001b[m\u001b[K]\n",
      "  452 | static int \u001b[01;35m\u001b[Kget_coco_image_id\u001b[m\u001b[K(char *filename)\n",
      "      |            \u001b[01;35m\u001b[K^~~~~~~~~~~~~~~~~\u001b[m\u001b[K\n",
      "gcc -Iinclude/ -I3rdparty/stb/include -Wall -Wfatal-errors -Wno-unused-result -Wno-unknown-pragmas -fPIC -Ofast -c ./src/layer.c -o obj/layer.o\n",
      "gcc -Iinclude/ -I3rdparty/stb/include -Wall -Wfatal-errors -Wno-unused-result -Wno-unknown-pragmas -fPIC -Ofast -c ./src/compare.c -o obj/compare.o\n",
      "gcc -Iinclude/ -I3rdparty/stb/include -Wall -Wfatal-errors -Wno-unused-result -Wno-unknown-pragmas -fPIC -Ofast -c ./src/classifier.c -o obj/classifier.o\n",
      "\u001b[01m\u001b[K./src/classifier.c:\u001b[m\u001b[K In function ‘\u001b[01m\u001b[Ktrain_classifier\u001b[m\u001b[K’:\n",
      "\u001b[01m\u001b[K./src/classifier.c:190:13:\u001b[m\u001b[K \u001b[01;35m\u001b[Kwarning: \u001b[m\u001b[Kvariable ‘\u001b[01m\u001b[Kdraw_precision\u001b[m\u001b[K’ set but not used [\u001b[01;35m\u001b[K-Wunused-but-set-variable\u001b[m\u001b[K]\n",
      "  190 |         int \u001b[01;35m\u001b[Kdraw_precision\u001b[m\u001b[K = 0;\n",
      "      |             \u001b[01;35m\u001b[K^~~~~~~~~~~~~~\u001b[m\u001b[K\n",
      "\u001b[01m\u001b[K./src/classifier.c:146:9:\u001b[m\u001b[K \u001b[01;35m\u001b[Kwarning: \u001b[m\u001b[Kunused variable ‘\u001b[01m\u001b[Kcount\u001b[m\u001b[K’ [\u001b[01;35m\u001b[K-Wunused-variable\u001b[m\u001b[K]\n",
      "  146 |     int \u001b[01;35m\u001b[Kcount\u001b[m\u001b[K = 0;\n",
      "      |         \u001b[01;35m\u001b[K^~~~~\u001b[m\u001b[K\n",
      "\u001b[01m\u001b[K./src/classifier.c:35:11:\u001b[m\u001b[K \u001b[01;35m\u001b[Kwarning: \u001b[m\u001b[Kunused variable ‘\u001b[01m\u001b[Kavg_contrastive_acc\u001b[m\u001b[K’ [\u001b[01;35m\u001b[K-Wunused-variable\u001b[m\u001b[K]\n",
      "   35 |     float \u001b[01;35m\u001b[Kavg_contrastive_acc\u001b[m\u001b[K = 0;\n",
      "      |           \u001b[01;35m\u001b[K^~~~~~~~~~~~~~~~~~~\u001b[m\u001b[K\n",
      "\u001b[01m\u001b[K./src/classifier.c:\u001b[m\u001b[K In function ‘\u001b[01m\u001b[Kpredict_classifier\u001b[m\u001b[K’:\n",
      "\u001b[01m\u001b[K./src/classifier.c:855:13:\u001b[m\u001b[K \u001b[01;35m\u001b[Kwarning: \u001b[m\u001b[Kunused variable ‘\u001b[01m\u001b[Ktime\u001b[m\u001b[K’ [\u001b[01;35m\u001b[K-Wunused-variable\u001b[m\u001b[K]\n",
      "  855 |     clock_t \u001b[01;35m\u001b[Ktime\u001b[m\u001b[K;\n",
      "      |             \u001b[01;35m\u001b[K^~~~\u001b[m\u001b[K\n",
      "gcc -Iinclude/ -I3rdparty/stb/include -Wall -Wfatal-errors -Wno-unused-result -Wno-unknown-pragmas -fPIC -Ofast -c ./src/local_layer.c -o obj/local_layer.o\n",
      "gcc -Iinclude/ -I3rdparty/stb/include -Wall -Wfatal-errors -Wno-unused-result -Wno-unknown-pragmas -fPIC -Ofast -c ./src/swag.c -o obj/swag.o\n",
      "gcc -Iinclude/ -I3rdparty/stb/include -Wall -Wfatal-errors -Wno-unused-result -Wno-unknown-pragmas -fPIC -Ofast -c ./src/shortcut_layer.c -o obj/shortcut_layer.o\n",
      "\u001b[01m\u001b[K./src/shortcut_layer.c:\u001b[m\u001b[K In function ‘\u001b[01m\u001b[Kmake_shortcut_layer\u001b[m\u001b[K’:\n",
      "\u001b[01m\u001b[K./src/shortcut_layer.c:55:15:\u001b[m\u001b[K \u001b[01;35m\u001b[Kwarning: \u001b[m\u001b[Kunused variable ‘\u001b[01m\u001b[Kscale\u001b[m\u001b[K’ [\u001b[01;35m\u001b[K-Wunused-variable\u001b[m\u001b[K]\n",
      "   55 |         float \u001b[01;35m\u001b[Kscale\u001b[m\u001b[K = sqrt(2. / l.nweights);\n",
      "      |               \u001b[01;35m\u001b[K^~~~~\u001b[m\u001b[K\n",
      "gcc -Iinclude/ -I3rdparty/stb/include -Wall -Wfatal-errors -Wno-unused-result -Wno-unknown-pragmas -fPIC -Ofast -c ./src/representation_layer.c -o obj/representation_layer.o\n",
      "gcc -Iinclude/ -I3rdparty/stb/include -Wall -Wfatal-errors -Wno-unused-result -Wno-unknown-pragmas -fPIC -Ofast -c ./src/activation_layer.c -o obj/activation_layer.o\n",
      "gcc -Iinclude/ -I3rdparty/stb/include -Wall -Wfatal-errors -Wno-unused-result -Wno-unknown-pragmas -fPIC -Ofast -c ./src/rnn_layer.c -o obj/rnn_layer.o\n",
      "gcc -Iinclude/ -I3rdparty/stb/include -Wall -Wfatal-errors -Wno-unused-result -Wno-unknown-pragmas -fPIC -Ofast -c ./src/gru_layer.c -o obj/gru_layer.o\n",
      "gcc -Iinclude/ -I3rdparty/stb/include -Wall -Wfatal-errors -Wno-unused-result -Wno-unknown-pragmas -fPIC -Ofast -c ./src/rnn.c -o obj/rnn.o\n",
      "gcc -Iinclude/ -I3rdparty/stb/include -Wall -Wfatal-errors -Wno-unused-result -Wno-unknown-pragmas -fPIC -Ofast -c ./src/rnn_vid.c -o obj/rnn_vid.o\n",
      "gcc -Iinclude/ -I3rdparty/stb/include -Wall -Wfatal-errors -Wno-unused-result -Wno-unknown-pragmas -fPIC -Ofast -c ./src/crnn_layer.c -o obj/crnn_layer.o\n",
      "gcc -Iinclude/ -I3rdparty/stb/include -Wall -Wfatal-errors -Wno-unused-result -Wno-unknown-pragmas -fPIC -Ofast -c ./src/demo.c -o obj/demo.o\n",
      "gcc -Iinclude/ -I3rdparty/stb/include -Wall -Wfatal-errors -Wno-unused-result -Wno-unknown-pragmas -fPIC -Ofast -c ./src/tag.c -o obj/tag.o\n",
      "gcc -Iinclude/ -I3rdparty/stb/include -Wall -Wfatal-errors -Wno-unused-result -Wno-unknown-pragmas -fPIC -Ofast -c ./src/cifar.c -o obj/cifar.o\n",
      "gcc -Iinclude/ -I3rdparty/stb/include -Wall -Wfatal-errors -Wno-unused-result -Wno-unknown-pragmas -fPIC -Ofast -c ./src/go.c -o obj/go.o\n",
      "gcc -Iinclude/ -I3rdparty/stb/include -Wall -Wfatal-errors -Wno-unused-result -Wno-unknown-pragmas -fPIC -Ofast -c ./src/batchnorm_layer.c -o obj/batchnorm_layer.o\n",
      "gcc -Iinclude/ -I3rdparty/stb/include -Wall -Wfatal-errors -Wno-unused-result -Wno-unknown-pragmas -fPIC -Ofast -c ./src/art.c -o obj/art.o\n",
      "gcc -Iinclude/ -I3rdparty/stb/include -Wall -Wfatal-errors -Wno-unused-result -Wno-unknown-pragmas -fPIC -Ofast -c ./src/region_layer.c -o obj/region_layer.o\n",
      "gcc -Iinclude/ -I3rdparty/stb/include -Wall -Wfatal-errors -Wno-unused-result -Wno-unknown-pragmas -fPIC -Ofast -c ./src/reorg_layer.c -o obj/reorg_layer.o\n",
      "gcc -Iinclude/ -I3rdparty/stb/include -Wall -Wfatal-errors -Wno-unused-result -Wno-unknown-pragmas -fPIC -Ofast -c ./src/reorg_old_layer.c -o obj/reorg_old_layer.o\n",
      "gcc -Iinclude/ -I3rdparty/stb/include -Wall -Wfatal-errors -Wno-unused-result -Wno-unknown-pragmas -fPIC -Ofast -c ./src/super.c -o obj/super.o\n",
      "gcc -Iinclude/ -I3rdparty/stb/include -Wall -Wfatal-errors -Wno-unused-result -Wno-unknown-pragmas -fPIC -Ofast -c ./src/voxel.c -o obj/voxel.o\n",
      "gcc -Iinclude/ -I3rdparty/stb/include -Wall -Wfatal-errors -Wno-unused-result -Wno-unknown-pragmas -fPIC -Ofast -c ./src/tree.c -o obj/tree.o\n",
      "gcc -Iinclude/ -I3rdparty/stb/include -Wall -Wfatal-errors -Wno-unused-result -Wno-unknown-pragmas -fPIC -Ofast -c ./src/yolo_layer.c -o obj/yolo_layer.o\n",
      "\u001b[01m\u001b[K./src/yolo_layer.c:\u001b[m\u001b[K In function ‘\u001b[01m\u001b[Kprocess_batch\u001b[m\u001b[K’:\n",
      "\u001b[01m\u001b[K./src/yolo_layer.c:426:25:\u001b[m\u001b[K \u001b[01;35m\u001b[Kwarning: \u001b[m\u001b[Kvariable ‘\u001b[01m\u001b[Kbest_match_t\u001b[m\u001b[K’ set but not used [\u001b[01;35m\u001b[K-Wunused-but-set-variable\u001b[m\u001b[K]\n",
      "  426 |                     int \u001b[01;35m\u001b[Kbest_match_t\u001b[m\u001b[K = 0;\n",
      "      |                         \u001b[01;35m\u001b[K^~~~~~~~~~~~\u001b[m\u001b[K\n",
      "\u001b[01m\u001b[K./src/yolo_layer.c:\u001b[m\u001b[K In function ‘\u001b[01m\u001b[Kforward_yolo_layer\u001b[m\u001b[K’:\n",
      "\u001b[01m\u001b[K./src/yolo_layer.c:707:11:\u001b[m\u001b[K \u001b[01;35m\u001b[Kwarning: \u001b[m\u001b[Kunused variable ‘\u001b[01m\u001b[Kavg_anyobj\u001b[m\u001b[K’ [\u001b[01;35m\u001b[K-Wunused-variable\u001b[m\u001b[K]\n",
      "  707 |     float \u001b[01;35m\u001b[Kavg_anyobj\u001b[m\u001b[K = 0;\n",
      "      |           \u001b[01;35m\u001b[K^~~~~~~~~~\u001b[m\u001b[K\n",
      "\u001b[01m\u001b[K./src/yolo_layer.c:706:11:\u001b[m\u001b[K \u001b[01;35m\u001b[Kwarning: \u001b[m\u001b[Kunused variable ‘\u001b[01m\u001b[Kavg_obj\u001b[m\u001b[K’ [\u001b[01;35m\u001b[K-Wunused-variable\u001b[m\u001b[K]\n",
      "  706 |     float \u001b[01;35m\u001b[Kavg_obj\u001b[m\u001b[K = 0;\n",
      "      |           \u001b[01;35m\u001b[K^~~~~~~\u001b[m\u001b[K\n",
      "\u001b[01m\u001b[K./src/yolo_layer.c:705:11:\u001b[m\u001b[K \u001b[01;35m\u001b[Kwarning: \u001b[m\u001b[Kunused variable ‘\u001b[01m\u001b[Kavg_cat\u001b[m\u001b[K’ [\u001b[01;35m\u001b[K-Wunused-variable\u001b[m\u001b[K]\n",
      "  705 |     float \u001b[01;35m\u001b[Kavg_cat\u001b[m\u001b[K = 0;\n",
      "      |           \u001b[01;35m\u001b[K^~~~~~~\u001b[m\u001b[K\n",
      "\u001b[01m\u001b[K./src/yolo_layer.c:704:11:\u001b[m\u001b[K \u001b[01;35m\u001b[Kwarning: \u001b[m\u001b[Kunused variable ‘\u001b[01m\u001b[Krecall75\u001b[m\u001b[K’ [\u001b[01;35m\u001b[K-Wunused-variable\u001b[m\u001b[K]\n",
      "  704 |     float \u001b[01;35m\u001b[Krecall75\u001b[m\u001b[K = 0;\n",
      "      |           \u001b[01;35m\u001b[K^~~~~~~~\u001b[m\u001b[K\n",
      "\u001b[01m\u001b[K./src/yolo_layer.c:703:11:\u001b[m\u001b[K \u001b[01;35m\u001b[Kwarning: \u001b[m\u001b[Kunused variable ‘\u001b[01m\u001b[Krecall\u001b[m\u001b[K’ [\u001b[01;35m\u001b[K-Wunused-variable\u001b[m\u001b[K]\n",
      "  703 |     float \u001b[01;35m\u001b[Krecall\u001b[m\u001b[K = 0;\n",
      "      |           \u001b[01;35m\u001b[K^~~~~~\u001b[m\u001b[K\n",
      "\u001b[01m\u001b[K./src/yolo_layer.c:702:11:\u001b[m\u001b[K \u001b[01;35m\u001b[Kwarning: \u001b[m\u001b[Kunused variable ‘\u001b[01m\u001b[Ktot_ciou_loss\u001b[m\u001b[K’ [\u001b[01;35m\u001b[K-Wunused-variable\u001b[m\u001b[K]\n",
      "  702 |     float \u001b[01;35m\u001b[Ktot_ciou_loss\u001b[m\u001b[K = 0;\n",
      "      |           \u001b[01;35m\u001b[K^~~~~~~~~~~~~\u001b[m\u001b[K\n",
      "\u001b[01m\u001b[K./src/yolo_layer.c:701:11:\u001b[m\u001b[K \u001b[01;35m\u001b[Kwarning: \u001b[m\u001b[Kunused variable ‘\u001b[01m\u001b[Ktot_diou_loss\u001b[m\u001b[K’ [\u001b[01;35m\u001b[K-Wunused-variable\u001b[m\u001b[K]\n",
      "  701 |     float \u001b[01;35m\u001b[Ktot_diou_loss\u001b[m\u001b[K = 0;\n",
      "      |           \u001b[01;35m\u001b[K^~~~~~~~~~~~~\u001b[m\u001b[K\n",
      "\u001b[01m\u001b[K./src/yolo_layer.c:698:11:\u001b[m\u001b[K \u001b[01;35m\u001b[Kwarning: \u001b[m\u001b[Kunused variable ‘\u001b[01m\u001b[Ktot_ciou\u001b[m\u001b[K’ [\u001b[01;35m\u001b[K-Wunused-variable\u001b[m\u001b[K]\n",
      "  698 |     float \u001b[01;35m\u001b[Ktot_ciou\u001b[m\u001b[K = 0;\n",
      "      |           \u001b[01;35m\u001b[K^~~~~~~~\u001b[m\u001b[K\n",
      "\u001b[01m\u001b[K./src/yolo_layer.c:697:11:\u001b[m\u001b[K \u001b[01;35m\u001b[Kwarning: \u001b[m\u001b[Kunused variable ‘\u001b[01m\u001b[Ktot_diou\u001b[m\u001b[K’ [\u001b[01;35m\u001b[K-Wunused-variable\u001b[m\u001b[K]\n",
      "  697 |     float \u001b[01;35m\u001b[Ktot_diou\u001b[m\u001b[K = 0;\n",
      "      |           \u001b[01;35m\u001b[K^~~~~~~~\u001b[m\u001b[K\n",
      "\u001b[01m\u001b[K./src/yolo_layer.c:696:11:\u001b[m\u001b[K \u001b[01;35m\u001b[Kwarning: \u001b[m\u001b[Kunused variable ‘\u001b[01m\u001b[Ktot_giou\u001b[m\u001b[K’ [\u001b[01;35m\u001b[K-Wunused-variable\u001b[m\u001b[K]\n",
      "  696 |     float \u001b[01;35m\u001b[Ktot_giou\u001b[m\u001b[K = 0;\n",
      "      |           \u001b[01;35m\u001b[K^~~~~~~~\u001b[m\u001b[K\n",
      "gcc -Iinclude/ -I3rdparty/stb/include -Wall -Wfatal-errors -Wno-unused-result -Wno-unknown-pragmas -fPIC -Ofast -c ./src/gaussian_yolo_layer.c -o obj/gaussian_yolo_layer.o\n",
      "gcc -Iinclude/ -I3rdparty/stb/include -Wall -Wfatal-errors -Wno-unused-result -Wno-unknown-pragmas -fPIC -Ofast -c ./src/upsample_layer.c -o obj/upsample_layer.o\n",
      "gcc -Iinclude/ -I3rdparty/stb/include -Wall -Wfatal-errors -Wno-unused-result -Wno-unknown-pragmas -fPIC -Ofast -c ./src/lstm_layer.c -o obj/lstm_layer.o\n",
      "gcc -Iinclude/ -I3rdparty/stb/include -Wall -Wfatal-errors -Wno-unused-result -Wno-unknown-pragmas -fPIC -Ofast -c ./src/conv_lstm_layer.c -o obj/conv_lstm_layer.o\n",
      "gcc -Iinclude/ -I3rdparty/stb/include -Wall -Wfatal-errors -Wno-unused-result -Wno-unknown-pragmas -fPIC -Ofast -c ./src/scale_channels_layer.c -o obj/scale_channels_layer.o\n",
      "gcc -Iinclude/ -I3rdparty/stb/include -Wall -Wfatal-errors -Wno-unused-result -Wno-unknown-pragmas -fPIC -Ofast -c ./src/sam_layer.c -o obj/sam_layer.o\n",
      "g++ -std=c++11 -std=c++11 -Iinclude/ -I3rdparty/stb/include -Wall -Wfatal-errors -Wno-unused-result -Wno-unknown-pragmas -fPIC -Ofast obj/image_opencv.o obj/http_stream.o obj/gemm.o obj/utils.o obj/dark_cuda.o obj/convolutional_layer.o obj/list.o obj/image.o obj/activations.o obj/im2col.o obj/col2im.o obj/blas.o obj/crop_layer.o obj/dropout_layer.o obj/maxpool_layer.o obj/softmax_layer.o obj/data.o obj/matrix.o obj/network.o obj/connected_layer.o obj/cost_layer.o obj/parser.o obj/option_list.o obj/darknet.o obj/detection_layer.o obj/captcha.o obj/route_layer.o obj/writing.o obj/box.o obj/nightmare.o obj/normalization_layer.o obj/avgpool_layer.o obj/coco.o obj/dice.o obj/yolo.o obj/detector.o obj/layer.o obj/compare.o obj/classifier.o obj/local_layer.o obj/swag.o obj/shortcut_layer.o obj/representation_layer.o obj/activation_layer.o obj/rnn_layer.o obj/gru_layer.o obj/rnn.o obj/rnn_vid.o obj/crnn_layer.o obj/demo.o obj/tag.o obj/cifar.o obj/go.o obj/batchnorm_layer.o obj/art.o obj/region_layer.o obj/reorg_layer.o obj/reorg_old_layer.o obj/super.o obj/voxel.o obj/tree.o obj/yolo_layer.o obj/gaussian_yolo_layer.o obj/upsample_layer.o obj/lstm_layer.o obj/conv_lstm_layer.o obj/scale_channels_layer.o obj/sam_layer.o -o darknet -lm -pthread\n"
     ]
    }
   ],
   "source": [
    "%cd darknet\n",
    "# make darknet (crea darknet para que luego pueda usar el archivo ejecutable darknet para ejecutar o entrenar detectores de objetos)\n",
    "!make"
   ]
  },
  {
   "cell_type": "code",
   "execution_count": 2,
   "metadata": {},
   "outputs": [
    {
     "ename": "SyntaxError",
     "evalue": "invalid syntax (<ipython-input-2-55b82439c9d7>, line 1)",
     "output_type": "error",
     "traceback": [
      "\u001b[0;36m  File \u001b[0;32m\"<ipython-input-2-55b82439c9d7>\"\u001b[0;36m, line \u001b[0;32m1\u001b[0m\n\u001b[0;31m    ./darknet detector test ./cfg/coco.data ./cfg/yolov4.cfg ./yolov4.weights\u001b[0m\n\u001b[0m    ^\u001b[0m\n\u001b[0;31mSyntaxError\u001b[0m\u001b[0;31m:\u001b[0m invalid syntax\n"
     ]
    }
   ],
   "source": [
    "./darknet detector test ./cfg/coco.data ./cfg/yolov4.cfg ./yolov4.weights"
   ]
  },
  {
   "cell_type": "markdown",
   "metadata": {
    "id": "Bndhv4TYd4fF"
   },
   "source": [
    "## Descargando pesos de YOLOv4"
   ]
  },
  {
   "cell_type": "markdown",
   "metadata": {
    "id": "4Ik77IAZfT8y"
   },
   "source": [
    "### Entrenamiento propio\n",
    "\n",
    "yolov4-obj_best.weights URL: https://drive.google.com/file/d/1-5eprW8D2Si3gZOqaN4QadHOFhvu6OWT/view?usp=sharing\n",
    "\n",
    "yolov4-obj_final.weights URL: https://drive.google.com/file/d/1-00dw9YYg9uz1qFGxxJbmjSC_7C6yG_H/view?usp=sharing"
   ]
  },
  {
   "cell_type": "code",
   "execution_count": 4,
   "metadata": {
    "colab": {
     "base_uri": "https://localhost:8080/"
    },
    "executionInfo": {
     "elapsed": 2689,
     "status": "ok",
     "timestamp": 1623355463482,
     "user": {
      "displayName": "Maximiliano Yommi",
      "photoUrl": "https://lh3.googleusercontent.com/a-/AOh14GjvkY2zRBy-L4HLZeU4qTeHPNSW7UYZ6CKhX_b1vvs=s64",
      "userId": "11163532765820297776"
     },
     "user_tz": 180
    },
    "id": "gWxgGN2TfihC",
    "outputId": "3f7fcf44-ae3d-48e1-dd0e-b257cdfc488a"
   },
   "outputs": [
    {
     "name": "stdout",
     "output_type": "stream",
     "text": [
      "/home/max/Dropbox/Git/proyectos/ml_auli/ml_uali/notebooks\n",
      "--2021-06-14 21:33:38--  https://docs.google.com/uc?export=download&confirm=RL64&id=1-00dw9YYg9uz1qFGxxJbmjSC_7C6yG_H\n",
      "Resolving docs.google.com (docs.google.com)... 2800:3f0:4002:80b::200e, 172.217.162.14\n",
      "Connecting to docs.google.com (docs.google.com)|2800:3f0:4002:80b::200e|:443... connected.\n",
      "HTTP request sent, awaiting response... 302 Moved Temporarily\n",
      "Location: https://doc-0k-5s-docs.googleusercontent.com/docs/securesc/fb5smph1kr8sf0r4483licdb8hko0pkm/hminqlkblftnnqfcdkgjproi1nu6n3op/1623717150000/04394533313268812415/11247419704206750502Z/1-00dw9YYg9uz1qFGxxJbmjSC_7C6yG_H?e=download [following]\n",
      "--2021-06-14 21:33:38--  https://doc-0k-5s-docs.googleusercontent.com/docs/securesc/fb5smph1kr8sf0r4483licdb8hko0pkm/hminqlkblftnnqfcdkgjproi1nu6n3op/1623717150000/04394533313268812415/11247419704206750502Z/1-00dw9YYg9uz1qFGxxJbmjSC_7C6yG_H?e=download\n",
      "Resolving doc-0k-5s-docs.googleusercontent.com (doc-0k-5s-docs.googleusercontent.com)... 2800:3f0:4002:801::2001, 172.217.172.161\n",
      "Connecting to doc-0k-5s-docs.googleusercontent.com (doc-0k-5s-docs.googleusercontent.com)|2800:3f0:4002:801::2001|:443... connected.\n",
      "HTTP request sent, awaiting response... 302 Found\n",
      "Location: https://docs.google.com/nonceSigner?nonce=sl5baaudfekcs&continue=https://doc-0k-5s-docs.googleusercontent.com/docs/securesc/fb5smph1kr8sf0r4483licdb8hko0pkm/hminqlkblftnnqfcdkgjproi1nu6n3op/1623717150000/04394533313268812415/11247419704206750502Z/1-00dw9YYg9uz1qFGxxJbmjSC_7C6yG_H?e%3Ddownload&hash=uhvqk1kd7lqvqqvje95d3u4rs9qhqeem [following]\n",
      "--2021-06-14 21:33:38--  https://docs.google.com/nonceSigner?nonce=sl5baaudfekcs&continue=https://doc-0k-5s-docs.googleusercontent.com/docs/securesc/fb5smph1kr8sf0r4483licdb8hko0pkm/hminqlkblftnnqfcdkgjproi1nu6n3op/1623717150000/04394533313268812415/11247419704206750502Z/1-00dw9YYg9uz1qFGxxJbmjSC_7C6yG_H?e%3Ddownload&hash=uhvqk1kd7lqvqqvje95d3u4rs9qhqeem\n",
      "Connecting to docs.google.com (docs.google.com)|2800:3f0:4002:80b::200e|:443... connected.\n",
      "HTTP request sent, awaiting response... 302 Found\n",
      "Location: https://doc-0k-5s-docs.googleusercontent.com/docs/securesc/fb5smph1kr8sf0r4483licdb8hko0pkm/hminqlkblftnnqfcdkgjproi1nu6n3op/1623717150000/04394533313268812415/11247419704206750502Z/1-00dw9YYg9uz1qFGxxJbmjSC_7C6yG_H?e=download&nonce=sl5baaudfekcs&user=11247419704206750502Z&hash=dap0gac92ph99nb0jmv91mfp38a18qs3 [following]\n",
      "--2021-06-14 21:33:38--  https://doc-0k-5s-docs.googleusercontent.com/docs/securesc/fb5smph1kr8sf0r4483licdb8hko0pkm/hminqlkblftnnqfcdkgjproi1nu6n3op/1623717150000/04394533313268812415/11247419704206750502Z/1-00dw9YYg9uz1qFGxxJbmjSC_7C6yG_H?e=download&nonce=sl5baaudfekcs&user=11247419704206750502Z&hash=dap0gac92ph99nb0jmv91mfp38a18qs3\n",
      "Connecting to doc-0k-5s-docs.googleusercontent.com (doc-0k-5s-docs.googleusercontent.com)|2800:3f0:4002:801::2001|:443... connected.\n",
      "HTTP request sent, awaiting response... 200 OK\n",
      "Length: unspecified [application/octet-stream]\n",
      "Saving to: ‘yolov4-obj_final.weights’\n",
      "\n",
      "yolov4-obj_final.we     [      <=>           ] 244,26M  8,66MB/s    in 29s     \n",
      "\n",
      "2021-06-14 21:34:08 (8,54 MB/s) - ‘yolov4-obj_final.weights’ saved [256123680]\n",
      "\n"
     ]
    }
   ],
   "source": [
    "# yolov4-obj_best.weights\n",
    "!wget --load-cookies /tmp/cookies.txt \"https://docs.google.com/uc?export=download&confirm=$(wget --quiet --save-cookies /tmp/cookies.txt --keep-session-cookies --no-check-certificate 'https://docs.google.com/uc?export=download&id=1-00dw9YYg9uz1qFGxxJbmjSC_7C6yG_H' -O- | sed -rn 's/.*confirm=([0-9A-Za-z_]+).*/\\1\\n/p')&id=1-00dw9YYg9uz1qFGxxJbmjSC_7C6yG_H\" -O ../yolov4-obj_final.weights && rm -rf /tmp/cookies.txt"
   ]
  },
  {
   "cell_type": "markdown",
   "metadata": {},
   "source": [
    "### Descargando data_training"
   ]
  },
  {
   "cell_type": "code",
   "execution_count": 13,
   "metadata": {
    "colab": {
     "base_uri": "https://localhost:8080/"
    },
    "executionInfo": {
     "elapsed": 791,
     "status": "ok",
     "timestamp": 1623355470634,
     "user": {
      "displayName": "Maximiliano Yommi",
      "photoUrl": "https://lh3.googleusercontent.com/a-/AOh14GjvkY2zRBy-L4HLZeU4qTeHPNSW7UYZ6CKhX_b1vvs=s64",
      "userId": "11163532765820297776"
     },
     "user_tz": 180
    },
    "id": "RzJ6lUiGh0_a",
    "outputId": "760d6af8-e785-45e3-9472-5c63135f21d5"
   },
   "outputs": [
    {
     "name": "stdout",
     "output_type": "stream",
     "text": [
      "--2021-06-14 22:08:26--  https://github.com/githubuali/ml_uali/blob/main/training/yolo_v1/data_training.zip?raw=true\n",
      "Resolving github.com (github.com)... 140.82.113.3\n",
      "Connecting to github.com (github.com)|140.82.113.3|:443... connected.\n",
      "HTTP request sent, awaiting response... 302 Found\n",
      "Location: https://github.com/githubuali/ml_uali/raw/main/training/yolo_v1/data_training.zip [following]\n",
      "--2021-06-14 22:08:27--  https://github.com/githubuali/ml_uali/raw/main/training/yolo_v1/data_training.zip\n",
      "Reusing existing connection to github.com:443.\n",
      "HTTP request sent, awaiting response... 302 Found\n",
      "Location: https://raw.githubusercontent.com/githubuali/ml_uali/main/training/yolo_v1/data_training.zip [following]\n",
      "--2021-06-14 22:08:27--  https://raw.githubusercontent.com/githubuali/ml_uali/main/training/yolo_v1/data_training.zip\n",
      "Resolving raw.githubusercontent.com (raw.githubusercontent.com)... 185.199.110.133, 185.199.108.133, 185.199.111.133, ...\n",
      "Connecting to raw.githubusercontent.com (raw.githubusercontent.com)|185.199.110.133|:443... connected.\n",
      "HTTP request sent, awaiting response... 200 OK\n",
      "Length: 1658 (1,6K) [application/zip]\n",
      "Saving to: ‘data_training.zip’\n",
      "\n",
      "data_training.zip   100%[===================>]   1,62K  --.-KB/s    in 0,001s  \n",
      "\n",
      "2021-06-14 22:08:27 (2,98 MB/s) - ‘data_training.zip’ saved [1658/1658]\n",
      "\n",
      "Archive:  data_training.zip\n",
      "  inflating: data_training/obj.data  \n",
      "  inflating: data_training/obj.names  \n",
      "  inflating: data_training/yolov4-obj.cfg  \n"
     ]
    }
   ],
   "source": [
    "# descargar comprimido de data_training\n",
    "!wget -O ../data_training.zip https://github.com/githubuali/ml_uali/blob/main/training/yolo_v1/data_training.zip?raw=true\n",
    "\n",
    "# descomprima los conjuntos de datos \n",
    "!unzip ../data_training.zip -d ../data_training\n",
    "\n",
    "# copiar obj.name\n",
    "!cp ../data_training/obj.names data\n",
    "\n",
    "# eliminando carpetas\n",
    "!rm -rf ../data_training.zip"
   ]
  },
  {
   "cell_type": "markdown",
   "metadata": {
    "id": "eRhSYsDThjGO"
   },
   "source": [
    "### Ejecutando Darknet y YOLOv4 (con imagenes por URL)"
   ]
  },
  {
   "cell_type": "markdown",
   "metadata": {
    "id": "1HN6wosEixev"
   },
   "source": [
    "URL: https://drive.google.com/file/d/1aLTw006n7dTYk_9P8TsY7tN-3xd-txLW/view?usp=sharing"
   ]
  },
  {
   "cell_type": "code",
   "execution_count": 14,
   "metadata": {
    "colab": {
     "base_uri": "https://localhost:8080/"
    },
    "executionInfo": {
     "elapsed": 1714,
     "status": "ok",
     "timestamp": 1623355492713,
     "user": {
      "displayName": "Maximiliano Yommi",
      "photoUrl": "https://lh3.googleusercontent.com/a-/AOh14GjvkY2zRBy-L4HLZeU4qTeHPNSW7UYZ6CKhX_b1vvs=s64",
      "userId": "11163532765820297776"
     },
     "user_tz": 180
    },
    "id": "_LVW6p5-iJtS",
    "outputId": "93609297-6c1c-4bbf-f7b9-40d3e55c7f48"
   },
   "outputs": [
    {
     "name": "stdout",
     "output_type": "stream",
     "text": [
      "--2021-06-14 22:08:39--  https://github.com/githubuali/ml_uali/blob/main/test_image/image_ypf.zip?raw=true\n",
      "Resolving github.com (github.com)... 140.82.114.3\n",
      "Connecting to github.com (github.com)|140.82.114.3|:443... connected.\n",
      "HTTP request sent, awaiting response... 302 Found\n",
      "Location: https://github.com/githubuali/ml_uali/raw/main/test_image/image_ypf.zip [following]\n",
      "--2021-06-14 22:08:40--  https://github.com/githubuali/ml_uali/raw/main/test_image/image_ypf.zip\n",
      "Reusing existing connection to github.com:443.\n",
      "HTTP request sent, awaiting response... 302 Found\n",
      "Location: https://raw.githubusercontent.com/githubuali/ml_uali/main/test_image/image_ypf.zip [following]\n",
      "--2021-06-14 22:08:40--  https://raw.githubusercontent.com/githubuali/ml_uali/main/test_image/image_ypf.zip\n",
      "Resolving raw.githubusercontent.com (raw.githubusercontent.com)... 185.199.110.133, 185.199.108.133, 185.199.111.133, ...\n",
      "Connecting to raw.githubusercontent.com (raw.githubusercontent.com)|185.199.110.133|:443... connected.\n",
      "HTTP request sent, awaiting response... 200 OK\n",
      "Length: 61781562 (59M) [application/zip]\n",
      "Saving to: ‘image_ypf.zip’\n",
      "\n",
      "image_ypf.zip       100%[===================>]  58,92M  4,57MB/s    in 9,3s    \n",
      "\n",
      "2021-06-14 22:08:50 (6,31 MB/s) - ‘image_ypf.zip’ saved [61781562/61781562]\n",
      "\n",
      "Archive:  image_ypf.zip\n",
      "   creating: eventosDetectados_YPF/\n",
      "  inflating: eventosDetectados_YPF/images.txt  \n",
      "  inflating: eventosDetectados_YPF/DJI_0002_Moment.jpg  \n",
      "  inflating: eventosDetectados_YPF/41.jpg  \n",
      "  inflating: eventosDetectados_YPF/DJI_0008_Moment.jpg  \n",
      "  inflating: eventosDetectados_YPF/DJI_00021_Moment.jpg  \n",
      "  inflating: eventosDetectados_YPF/DJI_00015_Moment.jpg  \n",
      "  inflating: eventosDetectados_YPF/DJI_00019_Moment.jpg  \n",
      "  inflating: eventosDetectados_YPF/DJI_00014_Moment.jpg  \n",
      "  inflating: eventosDetectados_YPF/DJI_00024_Moment.jpg  \n",
      "  inflating: eventosDetectados_YPF/DJI_0012_Moment.jpg  \n",
      "  inflating: eventosDetectados_YPF/40.jpg  \n",
      "  inflating: eventosDetectados_YPF/DJI_0011_Moment.jpg  \n",
      "  inflating: eventosDetectados_YPF/DJI_00010_Moment.jpg  \n",
      "  inflating: eventosDetectados_YPF/DJI_0036_Moment.jpg  \n",
      "  inflating: eventosDetectados_YPF/42.jpg  \n",
      "  inflating: eventosDetectados_YPF/DJI_0006_Moment.jpg  \n",
      "  inflating: eventosDetectados_YPF/DJI_0005_Moment.jpg  \n",
      "  inflating: eventosDetectados_YPF/DJI_0003_Moment.jpg  \n",
      "  inflating: eventosDetectados_YPF/DJI_0017_Moment.jpg  \n",
      "  inflating: eventosDetectados_YPF/DJI_0007_Moment.jpg  \n",
      "  inflating: eventosDetectados_YPF/DJI_0004_Moment.jpg  \n",
      "  inflating: eventosDetectados_YPF/DJI_00023_Moment.jpg  \n",
      "  inflating: eventosDetectados_YPF/DJI_0009_Moment.jpg  \n"
     ]
    }
   ],
   "source": [
    "# descargar comprimido de imagenes de prueba\n",
    "!wget -O ../image_ypf.zip https://github.com/githubuali/ml_uali/blob/main/data/image_ypf.zip?raw=true\n",
    "\n",
    "# descomprima los conjuntos de datos \n",
    "!unzip ../image_ypf.zip\n",
    "\n",
    "# eliminando carpetas\n",
    "!rm -rf ../image_ypf.zip"
   ]
  },
  {
   "cell_type": "code",
   "execution_count": 15,
   "metadata": {
    "colab": {
     "base_uri": "https://localhost:8080/"
    },
    "executionInfo": {
     "elapsed": 334,
     "status": "ok",
     "timestamp": 1623355923820,
     "user": {
      "displayName": "Maximiliano Yommi",
      "photoUrl": "https://lh3.googleusercontent.com/a-/AOh14GjvkY2zRBy-L4HLZeU4qTeHPNSW7UYZ6CKhX_b1vvs=s64",
      "userId": "11163532765820297776"
     },
     "user_tz": 180
    },
    "id": "xXkZNeA09o2f",
    "outputId": "dd6a9b3c-0675-425e-8c4e-191c9b77c467"
   },
   "outputs": [
    {
     "name": "stdout",
     "output_type": "stream",
     "text": [
      "/home/max/Dropbox/Git/proyectos/ml_auli/ml_uali/notebooks/data_training\n"
     ]
    }
   ],
   "source": [
    "# Necesitamos configurar nuestro cfg personalizado en modo de prueba (unica vez)\n",
    "!sed -i 's/batch=64/batch=1/' ../data_training/yolov4-obj.cfg\n",
    "!sed -i 's/subdivisions=16/subdivisions=1/' ../data_training/yolov4-obj.cfg"
   ]
  },
  {
   "cell_type": "code",
   "execution_count": null,
   "metadata": {},
   "outputs": [],
   "source": [
    "import time\n",
    "inicio = time.time()\n",
    "\n",
    "time.strftime('La inferencia se inició: '+'%Y-%m-%d %H:%M:%S', time.localtime())"
   ]
  },
  {
   "cell_type": "code",
   "execution_count": null,
   "metadata": {},
   "outputs": [],
   "source": [
    "#ejecute su detector personalizado con este comando (cargue una imagen en su unidad de Google para probar, la bandera thresh establece la precisión que debe tener la detección para mostrarla)\n",
    "!cd darknet && ./darknet detector test ../data_training/obj.data ../data_training/yolov4-obj.cfg ../yolov4-obj_final.weights -ext_output -dont_show -out result.json < ../eventos/O-E-20210707/images.txt \n",
    "\n",
    "time.strftime('La inferencia finalizó: '+'%Y-%m-%d %H:%M:%S', time.localtime())\n",
    "\n",
    "fin = time.time()\n",
    "print('El tiempo total de proceso es de: ' + fin-inicio/60 + ' minutos.') # 1.5099220275878906"
   ]
  }
 ],
 "metadata": {
  "accelerator": "GPU",
  "colab": {
   "collapsed_sections": [],
   "name": "YOLOv4_preTraining.ipynb",
   "provenance": []
  },
  "kernelspec": {
   "display_name": "Python 3",
   "language": "python",
   "name": "python3"
  },
  "language_info": {
   "codemirror_mode": {
    "name": "ipython",
    "version": 3
   },
   "file_extension": ".py",
   "mimetype": "text/x-python",
   "name": "python",
   "nbconvert_exporter": "python",
   "pygments_lexer": "ipython3",
   "version": "3.8.10"
  }
 },
 "nbformat": 4,
 "nbformat_minor": 4
}
