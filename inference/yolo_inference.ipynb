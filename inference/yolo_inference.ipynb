{
 "cells": [
  {
   "cell_type": "markdown",
   "source": [
    "# YOLO - Inferencia\n",
    "## Detección de objetos\n",
    "\n",
    "**Autor original:** @theAIGuysCode<br>\n",
    "**Adaptado:** @maxiyommi<br>\n",
    "**Fecha:** jun 2021<br>\n",
    "**Descripción:** Notebook para inferir resultados."
   ],
   "metadata": {
    "id": "U4OyfGBxupRm"
   }
  },
  {
   "cell_type": "markdown",
   "source": [
    "## Instalación de OpenCV\n",
    "\n",
    "``` bash\n",
    "    sudo apt install python3-opencv\n",
    "    sudo apt-get install libopencv-dev\n",
    "    sudo apt install python3-venv\n",
    "```"
   ],
   "metadata": {}
  },
  {
   "cell_type": "markdown",
   "source": [
    "## Instalar zip\n",
    "\n",
    "``` bash\n",
    "    sudo apt install zip unzip\n",
    "``` "
   ],
   "metadata": {}
  },
  {
   "cell_type": "markdown",
   "source": [
    "## Preparación del entorno\n",
    "\n",
    "* Crear entorno virtual (solo la primera vez) dentro de la carpeta `/inference`.\n",
    "\n",
    "``` bash\n",
    "    python3 -m venv yolo_inference --system-site-packages # crea el entorno virtual \n",
    "```"
   ],
   "metadata": {}
  },
  {
   "cell_type": "markdown",
   "source": [
    "* Activar entorno virtual (siempre).\n",
    "\n",
    "``` bash\n",
    "    source yolo_inference/bin/activate # activa el entorno virtual\n",
    "    deactivate # desactiva el entorno virtual\n",
    "    rm -r <nombre_del_entorno> # eliminar el entorno virtual\n",
    "```"
   ],
   "metadata": {}
  },
  {
   "cell_type": "markdown",
   "source": [
    "* Instalar librerias en el entorno virtual creado (solo la primera vez, a menos que se actualice).\n",
    "\n",
    "``` bash\n",
    "    pip3 install -r requirements.txt \n",
    "```"
   ],
   "metadata": {}
  },
  {
   "cell_type": "markdown",
   "source": [
    "## Importando librerias"
   ],
   "metadata": {}
  },
  {
   "cell_type": "code",
   "execution_count": 14,
   "source": [
    "import sys\n",
    "\n",
    "sys.path.append('../script')\n",
    "\n",
    "import ibmCloud as ibm\n",
    "from gen_txt_inference import gen_text"
   ],
   "outputs": [],
   "metadata": {}
  },
  {
   "cell_type": "markdown",
   "source": [
    "## Clonación y construcción de Darknet (por única vez)"
   ],
   "metadata": {
    "id": "FBlHu4zvcIBW"
   }
  },
  {
   "cell_type": "code",
   "execution_count": null,
   "source": [
    "# clonar repositorio darknet\n",
    "!git clone https://github.com/AlexeyAB/darknet"
   ],
   "outputs": [],
   "metadata": {
    "colab": {
     "base_uri": "https://localhost:8080/"
    },
    "executionInfo": {
     "elapsed": 19,
     "status": "ok",
     "timestamp": 1623356705280,
     "user": {
      "displayName": "Maximiliano Yommi",
      "photoUrl": "https://lh3.googleusercontent.com/a-/AOh14GjvkY2zRBy-L4HLZeU4qTeHPNSW7UYZ6CKhX_b1vvs=s64",
      "userId": "11163532765820297776"
     },
     "user_tz": 180
    },
    "id": "Pj6gCnDVcfqm",
    "outputId": "9d0452f2-d87b-40d0-9752-6c514e4d3899"
   }
  },
  {
   "cell_type": "markdown",
   "source": [
    "## Compilando Darknet"
   ],
   "metadata": {}
  },
  {
   "cell_type": "markdown",
   "source": [
    "Modificar el archivo `/darknet/Makefile`. Una opción es abrirlo directamente o usando las siguientes instrucciones."
   ],
   "metadata": {}
  },
  {
   "cell_type": "code",
   "execution_count": 5,
   "source": [
    "%cd darknet"
   ],
   "outputs": [
    {
     "output_type": "stream",
     "name": "stdout",
     "text": [
      "[Errno 2] No such file or directory: 'darknet'\n",
      "/home/max/Dropbox/Git/proyectos/UALI/ml_uali/inference/darknet\n"
     ]
    }
   ],
   "metadata": {}
  },
  {
   "cell_type": "code",
   "execution_count": null,
   "source": [
    "# cambie el makefile para tener GPU y OPENCV habilitados (para pruebas locales)\n",
    "!sed -i 's/OPENCV=0/OPENCV=1/' Makefile\n",
    "!sed -i 's/GPU=1/GPU=0/' Makefile\n",
    "!sed -i 's/CUDNN=1/CUDNN=0/' Makefile\n",
    "!sed -i 's/CUDNN_HALF=1/CUDNN_HALF=0/' Makefile"
   ],
   "outputs": [],
   "metadata": {
    "id": "tFV73jfKckoA"
   }
  },
  {
   "cell_type": "markdown",
   "source": [
    "Modificar las siguientes lineas para redireccionar el path de CUDA"
   ],
   "metadata": {}
  },
  {
   "cell_type": "markdown",
   "source": [
    "```\n",
    "GPU=1\n",
    "CUDNN=1\n",
    "\n",
    "ifeq ($(GPU), 1)\n",
    "COMMON+= -DGPU -I/usr/local/cuda-11.4/include/\n",
    "CFLAGS+= -DGPU\n",
    "ifeq ($(OS),Darwin) #MAC\n",
    "LDFLAGS+= -L/usr/local/cuda-11.4/lib -lcuda -lcudart -lcublas -lcurand\n",
    "else\n",
    "LDFLAGS+= -L/usr/local/cuda-11.4/lib64 -lcuda -lcudart -lcublas -lcurand\n",
    "endif\n",
    "endif\n",
    "\n",
    "ifeq ($(CUDNN), 1)\n",
    "COMMON+= -DCUDNN\n",
    "ifeq ($(OS),Darwin) #MAC\n",
    "CFLAGS+= -DCUDNN -I/usr/local/cuda-11.4/include\n",
    "LDFLAGS+= -L/usr/local/cuda-11.4/lib -lcudnn\n",
    "else\n",
    "CFLAGS+= -DCUDNN -I/usr/local/cudnn/include\n",
    "LDFLAGS+= -L/usr/local/cudnn/lib64 -lcudnn\n",
    "endif\n",
    "endif\n",
    "```"
   ],
   "metadata": {
    "tags": []
   }
  },
  {
   "cell_type": "markdown",
   "source": [
    "> **Nota:** Tambien se puede usar el archivo `Makefile_mod` para reemplazar (recordar modificar el nombre)"
   ],
   "metadata": {}
  },
  {
   "cell_type": "code",
   "execution_count": null,
   "source": [
    "# make darknet (crea darknet para que luego pueda usar el archivo ejecutable darknet para ejecutar o entrenar detectores de objetos)\n",
    "!make -h"
   ],
   "outputs": [],
   "metadata": {}
  },
  {
   "cell_type": "code",
   "execution_count": null,
   "source": [
    "!make -d"
   ],
   "outputs": [],
   "metadata": {
    "tags": []
   }
  },
  {
   "cell_type": "code",
   "execution_count": null,
   "source": [
    "./darknet detector test ./cfg/coco.data ./cfg/yolov4.cfg ./yolov4.weights"
   ],
   "outputs": [],
   "metadata": {
    "tags": []
   }
  },
  {
   "cell_type": "markdown",
   "source": [
    "## Descargando pesos de YOLOv4 (entrenamiento propio)"
   ],
   "metadata": {
    "id": "Bndhv4TYd4fF"
   }
  },
  {
   "cell_type": "markdown",
   "source": [
    "### Yolov4 - openImage (yolo_v1)\n",
    "\n",
    "* weights-file (best): --> URL: https://drive.google.com/file/d/1-5eprW8D2Si3gZOqaN4QadHOFhvu6OWT/view?usp=sharing\n",
    "\n",
    "* weights-file (final) --> URL: https://drive.google.com/file/d/1-00dw9YYg9uz1qFGxxJbmjSC_7C6yG_H/view?usp=sharing\n",
    "\n",
    "* data_training (.cfg - .names - .data) --> URL: https://github.com/githubuali/ml_uali/blob/main/training/yolo_v1/data_training.zip?raw=true"
   ],
   "metadata": {
    "id": "4Ik77IAZfT8y"
   }
  },
  {
   "cell_type": "markdown",
   "source": [
    "### Yolov4 - visDrone (yolo_v2)\n",
    "\n",
    "* weights-file (best): --> URL: https://drive.google.com/file/d/1Joo7P5zjiqnJuJr4KfouIpNZshnvLPYd/view?usp=sharing\n",
    "\n",
    "* data_training (.cfg - .names - .data) --> URL: https://github.com/githubuali/ml_uali/blob/main/training/yolo_v2/data_training.zip?raw=true"
   ],
   "metadata": {}
  },
  {
   "cell_type": "markdown",
   "source": [
    "### Download"
   ],
   "metadata": {}
  },
  {
   "cell_type": "code",
   "execution_count": null,
   "source": [
    "# descargar weights\n",
    "!wget --load-cookies /tmp/cookies.txt \"https://docs.google.com/uc?export=download&confirm=$(wget --quiet --save-cookies /tmp/cookies.txt --keep-session-cookies --no-check-certificate 'https://docs.google.com/uc?export=download&id=1Joo7P5zjiqnJuJr4KfouIpNZshnvLPYd' -O- | sed -rn 's/.*confirm=([0-9A-Za-z_]+).*/\\1\\n/p')&id=1Joo7P5zjiqnJuJr4KfouIpNZshnvLPYd\" -O ../yolov4-obj_final.weights && rm -rf /tmp/cookies.txt"
   ],
   "outputs": [],
   "metadata": {
    "colab": {
     "base_uri": "https://localhost:8080/"
    },
    "executionInfo": {
     "elapsed": 2689,
     "status": "ok",
     "timestamp": 1623355463482,
     "user": {
      "displayName": "Maximiliano Yommi",
      "photoUrl": "https://lh3.googleusercontent.com/a-/AOh14GjvkY2zRBy-L4HLZeU4qTeHPNSW7UYZ6CKhX_b1vvs=s64",
      "userId": "11163532765820297776"
     },
     "user_tz": 180
    },
    "id": "gWxgGN2TfihC",
    "outputId": "3f7fcf44-ae3d-48e1-dd0e-b257cdfc488a",
    "tags": []
   }
  },
  {
   "cell_type": "code",
   "execution_count": null,
   "source": [
    "# descargar comprimido de data_training\n",
    "!wget -O ../data_training.zip https://github.com/githubuali/ml_uali/blob/main/training/yolo_v2/data_training.zip?raw=true"
   ],
   "outputs": [],
   "metadata": {
    "colab": {
     "base_uri": "https://localhost:8080/"
    },
    "executionInfo": {
     "elapsed": 2689,
     "status": "ok",
     "timestamp": 1623355463482,
     "user": {
      "displayName": "Maximiliano Yommi",
      "photoUrl": "https://lh3.googleusercontent.com/a-/AOh14GjvkY2zRBy-L4HLZeU4qTeHPNSW7UYZ6CKhX_b1vvs=s64",
      "userId": "11163532765820297776"
     },
     "user_tz": 180
    },
    "id": "gWxgGN2TfihC",
    "outputId": "3f7fcf44-ae3d-48e1-dd0e-b257cdfc488a",
    "tags": []
   }
  },
  {
   "cell_type": "markdown",
   "source": [
    "### Ordenando archivos"
   ],
   "metadata": {}
  },
  {
   "cell_type": "code",
   "execution_count": null,
   "source": [
    "# descomprima los conjuntos de datos \n",
    "!unzip ../data_training.zip -d ../data_training"
   ],
   "outputs": [],
   "metadata": {
    "colab": {
     "base_uri": "https://localhost:8080/"
    },
    "executionInfo": {
     "elapsed": 791,
     "status": "ok",
     "timestamp": 1623355470634,
     "user": {
      "displayName": "Maximiliano Yommi",
      "photoUrl": "https://lh3.googleusercontent.com/a-/AOh14GjvkY2zRBy-L4HLZeU4qTeHPNSW7UYZ6CKhX_b1vvs=s64",
      "userId": "11163532765820297776"
     },
     "user_tz": 180
    },
    "id": "RzJ6lUiGh0_a",
    "outputId": "760d6af8-e785-45e3-9472-5c63135f21d5"
   }
  },
  {
   "cell_type": "code",
   "execution_count": null,
   "source": [
    "# copiar obj.name\n",
    "!cp ../data_training/data_training/obj.names data"
   ],
   "outputs": [],
   "metadata": {
    "colab": {
     "base_uri": "https://localhost:8080/"
    },
    "executionInfo": {
     "elapsed": 791,
     "status": "ok",
     "timestamp": 1623355470634,
     "user": {
      "displayName": "Maximiliano Yommi",
      "photoUrl": "https://lh3.googleusercontent.com/a-/AOh14GjvkY2zRBy-L4HLZeU4qTeHPNSW7UYZ6CKhX_b1vvs=s64",
      "userId": "11163532765820297776"
     },
     "user_tz": 180
    },
    "id": "RzJ6lUiGh0_a",
    "outputId": "760d6af8-e785-45e3-9472-5c63135f21d5"
   }
  },
  {
   "cell_type": "code",
   "execution_count": null,
   "source": [
    "# eliminando carpetas\n",
    "!rm -rf ../data_training.zip"
   ],
   "outputs": [],
   "metadata": {
    "colab": {
     "base_uri": "https://localhost:8080/"
    },
    "executionInfo": {
     "elapsed": 791,
     "status": "ok",
     "timestamp": 1623355470634,
     "user": {
      "displayName": "Maximiliano Yommi",
      "photoUrl": "https://lh3.googleusercontent.com/a-/AOh14GjvkY2zRBy-L4HLZeU4qTeHPNSW7UYZ6CKhX_b1vvs=s64",
      "userId": "11163532765820297776"
     },
     "user_tz": 180
    },
    "id": "RzJ6lUiGh0_a",
    "outputId": "760d6af8-e785-45e3-9472-5c63135f21d5"
   }
  },
  {
   "cell_type": "markdown",
   "source": [
    "### Ejecutando Darknet y YOLOv4"
   ],
   "metadata": {
    "id": "eRhSYsDThjGO"
   }
  },
  {
   "cell_type": "markdown",
   "source": [
    "### Por URL"
   ],
   "metadata": {}
  },
  {
   "cell_type": "markdown",
   "source": [
    "URL: https://drive.google.com/file/d/1aLTw006n7dTYk_9P8TsY7tN-3xd-txLW/view?usp=sharing"
   ],
   "metadata": {
    "id": "1HN6wosEixev"
   }
  },
  {
   "cell_type": "code",
   "execution_count": null,
   "source": [
    "# descargar comprimido de imagenes de prueba\n",
    "!wget -O ../image_ypf.zip https://github.com/githubuali/ml_uali/blob/main/data/image_ypf.zip?raw=true\n",
    "\n",
    "# descomprima los conjuntos de datos \n",
    "!unzip ../image_ypf.zip\n",
    "\n",
    "# eliminando carpetas\n",
    "!rm -rf ../image_ypf.zip"
   ],
   "outputs": [],
   "metadata": {
    "colab": {
     "base_uri": "https://localhost:8080/"
    },
    "executionInfo": {
     "elapsed": 1714,
     "status": "ok",
     "timestamp": 1623355492713,
     "user": {
      "displayName": "Maximiliano Yommi",
      "photoUrl": "https://lh3.googleusercontent.com/a-/AOh14GjvkY2zRBy-L4HLZeU4qTeHPNSW7UYZ6CKhX_b1vvs=s64",
      "userId": "11163532765820297776"
     },
     "user_tz": 180
    },
    "id": "_LVW6p5-iJtS",
    "outputId": "93609297-6c1c-4bbf-f7b9-40d3e55c7f48"
   }
  },
  {
   "cell_type": "code",
   "execution_count": 26,
   "source": [
    "download_path ='../eventos/eventosDetectados_YPF'"
   ],
   "outputs": [],
   "metadata": {}
  },
  {
   "cell_type": "markdown",
   "source": [
    "### Por IBM Cloud "
   ],
   "metadata": {}
  },
  {
   "cell_type": "code",
   "execution_count": 12,
   "source": [
    "prefix = '28072021_SN_'\n",
    "download_path = '../eventos/' +  prefix"
   ],
   "outputs": [],
   "metadata": {}
  },
  {
   "cell_type": "code",
   "execution_count": null,
   "source": [
    "cos = ibm.configInstance()\n",
    "buckets = ibm.getBuckets(cos)   \n",
    "keys = ibm.getObjectsNames(cos, buckets[0], prefix) \n",
    "ibm.downloadFiles(cos, buckets[0], keys[0::], download_path)"
   ],
   "outputs": [],
   "metadata": {
    "tags": []
   }
  },
  {
   "cell_type": "markdown",
   "source": [
    "### Generar el .txt con paths"
   ],
   "metadata": {}
  },
  {
   "cell_type": "code",
   "execution_count": 27,
   "source": [
    "gen_text (download_path+'/')"
   ],
   "outputs": [],
   "metadata": {}
  },
  {
   "cell_type": "code",
   "execution_count": 28,
   "source": [
    "%cd darknet/"
   ],
   "outputs": [
    {
     "output_type": "stream",
     "name": "stdout",
     "text": [
      "[Errno 2] No such file or directory: 'darknet/'\n",
      "/home/max/Dropbox/Git/proyectos/UALI/ml_uali/inference/darknet\n"
     ]
    }
   ],
   "metadata": {
    "tags": []
   }
  },
  {
   "cell_type": "code",
   "execution_count": null,
   "source": [
    "# Necesitamos configurar nuestro cfg personalizado en modo de prueba (unica vez)\n",
    "!sed -i 's/batch=64/batch=1/' ../data_training/data_training/yolov4-obj.cfg\n",
    "!sed -i 's/subdivisions=16/subdivisions=1/' ../data_training/data_training/yolov4-obj.cfg"
   ],
   "outputs": [],
   "metadata": {
    "colab": {
     "base_uri": "https://localhost:8080/"
    },
    "executionInfo": {
     "elapsed": 334,
     "status": "ok",
     "timestamp": 1623355923820,
     "user": {
      "displayName": "Maximiliano Yommi",
      "photoUrl": "https://lh3.googleusercontent.com/a-/AOh14GjvkY2zRBy-L4HLZeU4qTeHPNSW7UYZ6CKhX_b1vvs=s64",
      "userId": "11163532765820297776"
     },
     "user_tz": 180
    },
    "id": "xXkZNeA09o2f",
    "outputId": "dd6a9b3c-0675-425e-8c4e-191c9b77c467"
   }
  },
  {
   "cell_type": "code",
   "execution_count": null,
   "source": [
    "import time\n",
    "inicio = time.time()\n",
    "\n",
    "time.strftime('La inferencia se inició: '+'%Y-%m-%d %H:%M:%S', time.localtime())"
   ],
   "outputs": [],
   "metadata": {}
  },
  {
   "cell_type": "code",
   "execution_count": null,
   "source": [
    "#ejecute su detector personalizado con este comando (cargue una imagen en su unidad de Google para probar, la bandera thresh establece la precisión que debe tener la detección para mostrarla)\n",
    "!./darknet detector test ../data_training/obj.data ../data_training/yolov4-obj.cfg ../yolov4-obj_final.weights -ext_output -dont_show -out result.json < ../eventos/eventosDetectados_YPF/images.txt\n",
    "\n",
    "time.strftime('La inferencia finalizó: '+'%Y-%m-%d %H:%M:%S', time.localtime())\n",
    "\n",
    "fin = time.time()\n",
    "print('El tiempo total de proceso es de: ' + str((fin-inicio)*(1.7*(10**-5)))+ ' minutos.') "
   ],
   "outputs": [],
   "metadata": {}
  },
  {
   "cell_type": "code",
   "execution_count": null,
   "source": [],
   "outputs": [],
   "metadata": {}
  }
 ],
 "metadata": {
  "accelerator": "GPU",
  "colab": {
   "collapsed_sections": [],
   "name": "YOLOv4_preTraining.ipynb",
   "provenance": []
  },
  "kernelspec": {
   "display_name": "yolo_inference",
   "language": "python",
   "name": "yolo_inference"
  },
  "language_info": {
   "codemirror_mode": {
    "name": "ipython",
    "version": 3
   },
   "file_extension": ".py",
   "mimetype": "text/x-python",
   "name": "python",
   "nbconvert_exporter": "python",
   "pygments_lexer": "ipython3",
   "version": "3.8.10"
  }
 },
 "nbformat": 4,
 "nbformat_minor": 4
}