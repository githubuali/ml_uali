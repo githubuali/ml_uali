{
 "cells": [
  {
   "cell_type": "markdown",
   "metadata": {
    "id": "U4OyfGBxupRm"
   },
   "source": [
    "# YOLO - Training\n",
    "## Detección de objetos\n",
    "\n",
    "**Autor original:** @theAIGuysCode<br>\n",
    "**Adaptado:** @maxiyommi<br>\n",
    "**Fecha:** jul 2021<br>\n",
    "**Descripción:** Notebook de entrenamiento.<br>"
   ]
  },
  {
   "cell_type": "markdown",
   "metadata": {},
   "source": [
    "## Instalación de OpenCV\n",
    "\n",
    "``` bash\n",
    "    sudo apt install python3-opencv\n",
    "    sudo apt-get install libopencv-dev\n",
    "```"
   ]
  },
  {
   "cell_type": "markdown",
   "metadata": {},
   "source": [
    "## Instalar zip\n",
    "\n",
    "``` bash\n",
    "    sudo apt install zip unzip\n",
    "``` "
   ]
  },
  {
   "cell_type": "markdown",
   "metadata": {},
   "source": [
    "## Preparación del entorno\n",
    "\n",
    "* Crear entorno virtual (solo la primera vez) dentro de la carpeta `/training`.\n",
    "\n",
    "``` bash\n",
    "    python3 -m venv yolo_training --system-site-packages # crea el entorno virtual \n",
    "```"
   ]
  },
  {
   "cell_type": "markdown",
   "metadata": {},
   "source": [
    "* Activar entorno virtual (siempre).\n",
    "\n",
    "``` bash\n",
    "    source yolo_training/bin/activate # activa el entorno virtual\n",
    "    deactivate # desactiva el entorno virtual\n",
    "    rm -r env # eliminar el entorno virtual\n",
    "```"
   ]
  },
  {
   "cell_type": "markdown",
   "metadata": {},
   "source": [
    "* Instalar librerias en el entorno virtual creado (solo la primera vez, a menos que se actualice).\n",
    "\n",
    "``` bash\n",
    "    pip3 install -r requirements.txt \n",
    "```"
   ]
  },
  {
   "cell_type": "markdown",
   "metadata": {},
   "source": [
    "* Agregar kernel a JupyterLab (**con el entorno virtual activado**).\n",
    "    \n",
    "``` bash\n",
    "    python -m ipykernel install --user --name=yolo_training \n",
    "```"
   ]
  },
  {
   "cell_type": "markdown",
   "metadata": {
    "id": "FBlHu4zvcIBW"
   },
   "source": [
    "## Clonación y construcción de Darknet (por única vez)"
   ]
  },
  {
   "cell_type": "code",
   "execution_count": null,
   "metadata": {
    "colab": {
     "base_uri": "https://localhost:8080/"
    },
    "executionInfo": {
     "elapsed": 19,
     "status": "ok",
     "timestamp": 1623356705280,
     "user": {
      "displayName": "Maximiliano Yommi",
      "photoUrl": "https://lh3.googleusercontent.com/a-/AOh14GjvkY2zRBy-L4HLZeU4qTeHPNSW7UYZ6CKhX_b1vvs=s64",
      "userId": "11163532765820297776"
     },
     "user_tz": 180
    },
    "id": "Pj6gCnDVcfqm",
    "outputId": "9d0452f2-d87b-40d0-9752-6c514e4d3899"
   },
   "outputs": [],
   "source": [
    "# clonar repositorio darknet\n",
    "!git clone https://github.com/AlexeyAB/darknet"
   ]
  },
  {
   "cell_type": "markdown",
   "metadata": {
    "id": "QWlQxFfnen80"
   },
   "source": [
    "## Definir funciones auxiliares"
   ]
  },
  {
   "cell_type": "code",
   "execution_count": null,
   "metadata": {
    "executionInfo": {
     "elapsed": 518,
     "status": "ok",
     "timestamp": 1623354270779,
     "user": {
      "displayName": "Maximiliano Yommi",
      "photoUrl": "https://lh3.googleusercontent.com/a-/AOh14GjvkY2zRBy-L4HLZeU4qTeHPNSW7UYZ6CKhX_b1vvs=s64",
      "userId": "11163532765820297776"
     },
     "user_tz": 180
    },
    "id": "K_7hclvSezvP"
   },
   "outputs": [],
   "source": [
    "import cv2\n",
    "import matplotlib.pyplot as plt\n",
    "%matplotlib inline"
   ]
  },
  {
   "cell_type": "code",
   "execution_count": null,
   "metadata": {
    "executionInfo": {
     "elapsed": 30,
     "status": "ok",
     "timestamp": 1623354270780,
     "user": {
      "displayName": "Maximiliano Yommi",
      "photoUrl": "https://lh3.googleusercontent.com/a-/AOh14GjvkY2zRBy-L4HLZeU4qTeHPNSW7UYZ6CKhX_b1vvs=s64",
      "userId": "11163532765820297776"
     },
     "user_tz": 180
    },
    "id": "0-XyDtjUeyjv"
   },
   "outputs": [],
   "source": [
    "def imShow(path):\n",
    "  image = cv2.imread(path)\n",
    "  height, width = image.shape[:2]\n",
    "  resized_image = cv2.resize(image,(3*width, 3*height), interpolation = cv2.INTER_CUBIC)\n",
    "\n",
    "  fig = plt.gcf()\n",
    "  fig.set_size_inches(18, 10)\n",
    "  plt.axis(\"off\")\n",
    "  plt.imshow(cv2.cvtColor(resized_image, cv2.COLOR_BGR2RGB))\n",
    "  plt.show()"
   ]
  },
  {
   "cell_type": "markdown",
   "metadata": {
    "id": "PfKM-RE4l-AR"
   },
   "source": [
    "## Entrenamiento personalizado\n",
    "### Descargando conjunto de datos por URL\n",
    "\n",
    "**OpenImage**\n",
    "\n",
    "obj_data URL: https://drive.google.com/file/d/1kUy8UCKNs3gwZz4Gw67FhHgKn90a-Muo/view?usp=sharing\n",
    "\n",
    "test_data URL: https://drive.google.com/file/d/1SqbKygmdH7VWahN9Zym2-a9RFOgVx3of/view?usp=sharing\n",
    "\n",
    "readme URL: https://drive.google.com/file/d/1QmE8DLbBoy7e1nTM3YhGBVMbNfVP14m_/view?usp=sharing"
   ]
  },
  {
   "cell_type": "code",
   "execution_count": null,
   "metadata": {
    "colab": {
     "base_uri": "https://localhost:8080/"
    },
    "executionInfo": {
     "elapsed": 309,
     "status": "ok",
     "timestamp": 1623354483505,
     "user": {
      "displayName": "Maximiliano Yommi",
      "photoUrl": "https://lh3.googleusercontent.com/a-/AOh14GjvkY2zRBy-L4HLZeU4qTeHPNSW7UYZ6CKhX_b1vvs=s64",
      "userId": "11163532765820297776"
     },
     "user_tz": 180
    },
    "id": "Ka4qaf2PdVD-",
    "outputId": "8a847f0d-9395-42eb-dca6-6ed0e3a6b0c3"
   },
   "outputs": [],
   "source": [
    "%cd /content"
   ]
  },
  {
   "cell_type": "code",
   "execution_count": null,
   "metadata": {
    "colab": {
     "base_uri": "https://localhost:8080/"
    },
    "executionInfo": {
     "elapsed": 88145,
     "status": "ok",
     "timestamp": 1623354573142,
     "user": {
      "displayName": "Maximiliano Yommi",
      "photoUrl": "https://lh3.googleusercontent.com/a-/AOh14GjvkY2zRBy-L4HLZeU4qTeHPNSW7UYZ6CKhX_b1vvs=s64",
      "userId": "11163532765820297776"
     },
     "user_tz": 180
    },
    "id": "Uebm4IkPmsTH",
    "outputId": "d75af2f8-97a3-4bc7-9e26-c97a0bb923af"
   },
   "outputs": [],
   "source": [
    "# obj_data\n",
    "!wget --load-cookies /tmp/cookies.txt \"https://docs.google.com/uc?export=download&confirm=$(wget --quiet --save-cookies /tmp/cookies.txt --keep-session-cookies --no-check-certificate 'https://docs.google.com/uc?export=download&id=1kUy8UCKNs3gwZz4Gw67FhHgKn90a-Muo' -O- | sed -rn 's/.*confirm=([0-9A-Za-z_]+).*/\\1\\n/p')&id=1kUy8UCKNs3gwZz4Gw67FhHgKn90a-Muo\" -O obj.zip && rm -rf /tmp/cookies.txt\n",
    "# test_data\n",
    "!wget --load-cookies /tmp/cookies.txt \"https://docs.google.com/uc?export=download&confirm=$(wget --quiet --save-cookies /tmp/cookies.txt --keep-session-cookies --no-check-certificate 'https://docs.google.com/uc?export=download&id=1SqbKygmdH7VWahN9Zym2-a9RFOgVx3of' -O- | sed -rn 's/.*confirm=([0-9A-Za-z_]+).*/\\1\\n/p')&id=1SqbKygmdH7VWahN9Zym2-a9RFOgVx3of\" -O test.zip && rm -rf /tmp/cookies.txt"
   ]
  },
  {
   "cell_type": "code",
   "execution_count": null,
   "metadata": {
    "colab": {
     "base_uri": "https://localhost:8080/"
    },
    "executionInfo": {
     "elapsed": 218646,
     "status": "ok",
     "timestamp": 1623354791773,
     "user": {
      "displayName": "Maximiliano Yommi",
      "photoUrl": "https://lh3.googleusercontent.com/a-/AOh14GjvkY2zRBy-L4HLZeU4qTeHPNSW7UYZ6CKhX_b1vvs=s64",
      "userId": "11163532765820297776"
     },
     "user_tz": 180
    },
    "id": "RzvXDHVLLYAC",
    "outputId": "891001b8-0685-45cb-e634-a283cd839392"
   },
   "outputs": [],
   "source": [
    "# descomprima los conjuntos de datos y su contenido para que ahora estén en la carpeta /darknet/data/\n",
    "!unzip obj.zip -d darknet/data/\n",
    "!unzip test.zip -d darknet/data/\n",
    "\n",
    "# eliminando carpetas\n",
    "!rm -rf obj.zip\n",
    "!rm -rf test.zip"
   ]
  },
  {
   "cell_type": "markdown",
   "metadata": {
    "id": "zy7UYBe1aTvD"
   },
   "source": [
    "### Copiando archivos de configuración\n"
   ]
  },
  {
   "cell_type": "code",
   "execution_count": null,
   "metadata": {},
   "outputs": [],
   "source": [
    "cp data_training/obj.data darknet/data/obj.data\n",
    "cp data_training/obj.names darknet/data/obj.names\n",
    "cp data_training/yolov4-obj.cfg darknet/cfg/yolov4-obj.cfg"
   ]
  },
  {
   "cell_type": "markdown",
   "metadata": {
    "id": "zy7UYBe1aTvD"
   },
   "source": [
    "### Descargando archivos de configuración (Solo en Colab)\n"
   ]
  },
  {
   "cell_type": "code",
   "execution_count": null,
   "metadata": {
    "colab": {
     "base_uri": "https://localhost:8080/"
    },
    "executionInfo": {
     "elapsed": 504,
     "status": "ok",
     "timestamp": 1623354342153,
     "user": {
      "displayName": "Maximiliano Yommi",
      "photoUrl": "https://lh3.googleusercontent.com/a-/AOh14GjvkY2zRBy-L4HLZeU4qTeHPNSW7UYZ6CKhX_b1vvs=s64",
      "userId": "11163532765820297776"
     },
     "user_tz": 180
    },
    "id": "GqxBKPsQjxac",
    "outputId": "09d16449-f4ce-402a-97fe-84ea8119c4fa"
   },
   "outputs": [],
   "source": [
    "# descargando obj.data, obj.names y yolov4-obj.cfg (comprimidos)\n",
    "!wget -O darknet/data/obj.data https://github.com/githubuali/ml_uali/blob/main/training/yolo_v2/data_training.zip?raw=true"
   ]
  },
  {
   "cell_type": "code",
   "execution_count": null,
   "metadata": {},
   "outputs": [],
   "source": [
    "!unzip data_training.zip -d data_training"
   ]
  },
  {
   "cell_type": "code",
   "execution_count": null,
   "metadata": {},
   "outputs": [],
   "source": [
    "cp data_training/obj.data darknet/data/obj.data\n",
    "cp data_training/obj.names darknet/data/obj.names\n",
    "cp data_training/yolov4-obj.cfg darknet/cfg/yolov4-obj.cfg"
   ]
  },
  {
   "cell_type": "code",
   "execution_count": null,
   "metadata": {},
   "outputs": [],
   "source": [
    "!rm -rf data_training.zip"
   ]
  },
  {
   "cell_type": "markdown",
   "metadata": {
    "id": "JND-GKgWg3JZ"
   },
   "source": [
    "### Generando train.txt y test.txt"
   ]
  },
  {
   "cell_type": "code",
   "execution_count": null,
   "metadata": {
    "colab": {
     "base_uri": "https://localhost:8080/"
    },
    "executionInfo": {
     "elapsed": 52,
     "status": "ok",
     "timestamp": 1623354791774,
     "user": {
      "displayName": "Maximiliano Yommi",
      "photoUrl": "https://lh3.googleusercontent.com/a-/AOh14GjvkY2zRBy-L4HLZeU4qTeHPNSW7UYZ6CKhX_b1vvs=s64",
      "userId": "11163532765820297776"
     },
     "user_tz": 180
    },
    "id": "rjRkkaVChtzB",
    "outputId": "6e6a0c50-fbea-478d-fb9b-e2ab2aa728a8"
   },
   "outputs": [],
   "source": [
    "%cd /content/darknet/"
   ]
  },
  {
   "cell_type": "code",
   "execution_count": null,
   "metadata": {
    "executionInfo": {
     "elapsed": 35,
     "status": "ok",
     "timestamp": 1623354791775,
     "user": {
      "displayName": "Maximiliano Yommi",
      "photoUrl": "https://lh3.googleusercontent.com/a-/AOh14GjvkY2zRBy-L4HLZeU4qTeHPNSW7UYZ6CKhX_b1vvs=s64",
      "userId": "11163532765820297776"
     },
     "user_tz": 180
    },
    "id": "BhqHAPUghVmN"
   },
   "outputs": [],
   "source": [
    "import os"
   ]
  },
  {
   "cell_type": "code",
   "execution_count": null,
   "metadata": {
    "executionInfo": {
     "elapsed": 36,
     "status": "ok",
     "timestamp": 1623354791777,
     "user": {
      "displayName": "Maximiliano Yommi",
      "photoUrl": "https://lh3.googleusercontent.com/a-/AOh14GjvkY2zRBy-L4HLZeU4qTeHPNSW7UYZ6CKhX_b1vvs=s64",
      "userId": "11163532765820297776"
     },
     "user_tz": 180
    },
    "id": "7AXhB-lcg-MB"
   },
   "outputs": [],
   "source": [
    "# Generando test.txt\n",
    "\n",
    "image_files = []\n",
    "os.chdir(os.path.join(\"data\", \"test\"))\n",
    "for filename in os.listdir(os.getcwd()):\n",
    "    if filename.endswith(\".jpg\"):\n",
    "        image_files.append(\"data/test/\" + filename)\n",
    "os.chdir(\"..\")\n",
    "with open(\"test.txt\", \"w\") as outfile:\n",
    "    for image in image_files:\n",
    "        outfile.write(image)\n",
    "        outfile.write(\"\\n\")\n",
    "    outfile.close()\n",
    "os.chdir(\"..\")"
   ]
  },
  {
   "cell_type": "code",
   "execution_count": null,
   "metadata": {
    "executionInfo": {
     "elapsed": 35,
     "status": "ok",
     "timestamp": 1623354791778,
     "user": {
      "displayName": "Maximiliano Yommi",
      "photoUrl": "https://lh3.googleusercontent.com/a-/AOh14GjvkY2zRBy-L4HLZeU4qTeHPNSW7UYZ6CKhX_b1vvs=s64",
      "userId": "11163532765820297776"
     },
     "user_tz": 180
    },
    "id": "GR3qpqD7hRIF"
   },
   "outputs": [],
   "source": [
    "# Generando train.txt\n",
    "\n",
    "image_files = []\n",
    "os.chdir(os.path.join(\"data\", \"obj\"))\n",
    "for filename in os.listdir(os.getcwd()):\n",
    "    if filename.endswith(\".jpg\"):\n",
    "        image_files.append(\"data/obj/\" + filename)\n",
    "os.chdir(\"..\")\n",
    "with open(\"train.txt\", \"w\") as outfile:\n",
    "    for image in image_files:\n",
    "        outfile.write(image)\n",
    "        outfile.write(\"\\n\")\n",
    "    outfile.close()\n",
    "os.chdir(\"..\")"
   ]
  },
  {
   "cell_type": "markdown",
   "metadata": {
    "id": "8g-IZ5Tuh6ro"
   },
   "source": [
    "### Descargue pesos pre-entrenados para las capas convolucionales."
   ]
  },
  {
   "cell_type": "code",
   "execution_count": null,
   "metadata": {
    "colab": {
     "base_uri": "https://localhost:8080/"
    },
    "executionInfo": {
     "elapsed": 2846,
     "status": "ok",
     "timestamp": 1623280293175,
     "user": {
      "displayName": "Maximiliano Yommi",
      "photoUrl": "",
      "userId": "04394533313268812415"
     },
     "user_tz": 180
    },
    "id": "RP62kalGh6Fi",
    "outputId": "b5757f68-315f-486d-d40e-4ab9b00a038e"
   },
   "outputs": [],
   "source": [
    "!wget -O pre_training/ https://github.com/AlexeyAB/darknet/releases/download/darknet_yolo_v3_optimal/yolov4.conv.137"
   ]
  },
  {
   "cell_type": "markdown",
   "metadata": {
    "id": "t8kwI5QToXl8"
   },
   "source": [
    "### Entrena tu detector personalizado!"
   ]
  },
  {
   "cell_type": "code",
   "execution_count": null,
   "metadata": {
    "id": "JU80VBbboW3N"
   },
   "outputs": [],
   "source": [
    "!./darknet detector train data/obj.data cfg/yolov4-obj.cfg yolov4.conv.137 -dont_show -map"
   ]
  },
  {
   "cell_type": "code",
   "execution_count": null,
   "metadata": {
    "id": "PbJh3Bq8pETz"
   },
   "outputs": [],
   "source": [
    "# muestre chart.png de cómo le fue al detector de objetos personalizado con la capacitación\n",
    "imShow('chart.png')"
   ]
  },
  {
   "cell_type": "markdown",
   "metadata": {
    "id": "L-PZEenApSBA"
   },
   "source": [
    " ### Iniciar el entrenamiento desde donde se guardó por última vez"
   ]
  },
  {
   "cell_type": "code",
   "execution_count": null,
   "metadata": {
    "id": "_F5tGRNepQF5"
   },
   "outputs": [],
   "source": [
    "!./darknet detector train data/obj.data cfg/yolov4-obj.cfg /content/drive/MyDrive/ml_uali/training/yolo_v1/checkpoints/yolov4-obj_last.weights -dont_show -map"
   ]
  },
  {
   "cell_type": "code",
   "execution_count": null,
   "metadata": {
    "colab": {
     "base_uri": "https://localhost:8080/"
    },
    "id": "TrRX25HeazaI",
    "outputId": "3108a8f6-0d6c-4a06-916a-2d55451ae5f3"
   },
   "outputs": [],
   "source": [
    "!./darknet detector map data/obj.data cfg/yolov4-obj.cfg /content/drive/MyDrive/ml_uali/training/yolo_v1/checkpoints/yolov4-obj_final.weights"
   ]
  }
 ],
 "metadata": {
  "accelerator": "GPU",
  "colab": {
   "collapsed_sections": [],
   "name": "YOLOv4_customTraining.ipynb",
   "provenance": []
  },
  "kernelspec": {
   "display_name": "Python 3",
   "language": "python",
   "name": "python3"
  },
  "language_info": {
   "codemirror_mode": {
    "name": "ipython",
    "version": 3
   },
   "file_extension": ".py",
   "mimetype": "text/x-python",
   "name": "python",
   "nbconvert_exporter": "python",
   "pygments_lexer": "ipython3",
   "version": "3.8.10"
  }
 },
 "nbformat": 4,
 "nbformat_minor": 4
}
